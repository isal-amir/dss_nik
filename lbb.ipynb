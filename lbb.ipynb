{
 "cells": [
  {
   "cell_type": "code",
   "execution_count": 1,
   "metadata": {},
   "outputs": [],
   "source": [
    "import pandas as pd\n",
    "import plotly.express as px\n",
    "from nomiden import reader as nr"
   ]
  },
  {
   "cell_type": "code",
   "execution_count": 2,
   "metadata": {},
   "outputs": [
    {
     "data": {
      "text/html": [
       "<div>\n",
       "<style scoped>\n",
       "    .dataframe tbody tr th:only-of-type {\n",
       "        vertical-align: middle;\n",
       "    }\n",
       "\n",
       "    .dataframe tbody tr th {\n",
       "        vertical-align: top;\n",
       "    }\n",
       "\n",
       "    .dataframe thead th {\n",
       "        text-align: right;\n",
       "    }\n",
       "</style>\n",
       "<table border=\"1\" class=\"dataframe\">\n",
       "  <thead>\n",
       "    <tr style=\"text-align: right;\">\n",
       "      <th></th>\n",
       "      <th>CustomerID</th>\n",
       "      <th>NIK</th>\n",
       "      <th>Annual_Income</th>\n",
       "      <th>Spending_Score</th>\n",
       "      <th>Profession</th>\n",
       "      <th>Work_Experience</th>\n",
       "      <th>Family_Size</th>\n",
       "    </tr>\n",
       "  </thead>\n",
       "  <tbody>\n",
       "    <tr>\n",
       "      <th>0</th>\n",
       "      <td>1</td>\n",
       "      <td>5203172209040014</td>\n",
       "      <td>15000000</td>\n",
       "      <td>39</td>\n",
       "      <td>Healthcare</td>\n",
       "      <td>1</td>\n",
       "      <td>4</td>\n",
       "    </tr>\n",
       "    <tr>\n",
       "      <th>1</th>\n",
       "      <td>2</td>\n",
       "      <td>1705032211020016</td>\n",
       "      <td>35000000</td>\n",
       "      <td>81</td>\n",
       "      <td>Engineer</td>\n",
       "      <td>3</td>\n",
       "      <td>3</td>\n",
       "    </tr>\n",
       "    <tr>\n",
       "      <th>2</th>\n",
       "      <td>3</td>\n",
       "      <td>7606055105030001</td>\n",
       "      <td>86000000</td>\n",
       "      <td>6</td>\n",
       "      <td>Engineer</td>\n",
       "      <td>1</td>\n",
       "      <td>1</td>\n",
       "    </tr>\n",
       "    <tr>\n",
       "      <th>3</th>\n",
       "      <td>4</td>\n",
       "      <td>7317074601000015</td>\n",
       "      <td>59000000</td>\n",
       "      <td>77</td>\n",
       "      <td>Lawyer</td>\n",
       "      <td>0</td>\n",
       "      <td>2</td>\n",
       "    </tr>\n",
       "    <tr>\n",
       "      <th>4</th>\n",
       "      <td>5</td>\n",
       "      <td>3215114911920008</td>\n",
       "      <td>38000000</td>\n",
       "      <td>40</td>\n",
       "      <td>Entertainment</td>\n",
       "      <td>2</td>\n",
       "      <td>6</td>\n",
       "    </tr>\n",
       "  </tbody>\n",
       "</table>\n",
       "</div>"
      ],
      "text/plain": [
       "   CustomerID               NIK  Annual_Income  Spending_Score     Profession  \\\n",
       "0           1  5203172209040014       15000000              39     Healthcare   \n",
       "1           2  1705032211020016       35000000              81       Engineer   \n",
       "2           3  7606055105030001       86000000               6       Engineer   \n",
       "3           4  7317074601000015       59000000              77         Lawyer   \n",
       "4           5  3215114911920008       38000000              40  Entertainment   \n",
       "\n",
       "   Work_Experience  Family_Size  \n",
       "0                1            4  \n",
       "1                3            3  \n",
       "2                1            1  \n",
       "3                0            2  \n",
       "4                2            6  "
      ]
     },
     "execution_count": 2,
     "metadata": {},
     "output_type": "execute_result"
    }
   ],
   "source": [
    "customer = pd.read_csv('data/customer_all.csv')\n",
    "customer.head()"
   ]
  },
  {
   "cell_type": "code",
   "execution_count": 3,
   "metadata": {},
   "outputs": [
    {
     "data": {
      "text/html": [
       "<div>\n",
       "<style scoped>\n",
       "    .dataframe tbody tr th:only-of-type {\n",
       "        vertical-align: middle;\n",
       "    }\n",
       "\n",
       "    .dataframe tbody tr th {\n",
       "        vertical-align: top;\n",
       "    }\n",
       "\n",
       "    .dataframe thead th {\n",
       "        text-align: right;\n",
       "    }\n",
       "</style>\n",
       "<table border=\"1\" class=\"dataframe\">\n",
       "  <thead>\n",
       "    <tr style=\"text-align: right;\">\n",
       "      <th></th>\n",
       "      <th>NIK</th>\n",
       "      <th>province</th>\n",
       "      <th>city</th>\n",
       "      <th>district</th>\n",
       "      <th>gender</th>\n",
       "      <th>birth_datetime</th>\n",
       "      <th>birthday</th>\n",
       "      <th>age</th>\n",
       "      <th>regist_code</th>\n",
       "    </tr>\n",
       "  </thead>\n",
       "  <tbody>\n",
       "    <tr>\n",
       "      <th>0</th>\n",
       "      <td>5203172209040014</td>\n",
       "      <td>NUSA TENGGARA BARAT</td>\n",
       "      <td>KAB. LOMBOK TIMUR</td>\n",
       "      <td>Labuhan Haji</td>\n",
       "      <td>Male</td>\n",
       "      <td>2004-09-22</td>\n",
       "      <td>22 September 2004</td>\n",
       "      <td>19</td>\n",
       "      <td>14</td>\n",
       "    </tr>\n",
       "    <tr>\n",
       "      <th>1</th>\n",
       "      <td>1705032211020016</td>\n",
       "      <td>BENGKULU</td>\n",
       "      <td>KAB. SELUMA</td>\n",
       "      <td>Talo</td>\n",
       "      <td>Male</td>\n",
       "      <td>2002-11-22</td>\n",
       "      <td>22 November 2002</td>\n",
       "      <td>21</td>\n",
       "      <td>16</td>\n",
       "    </tr>\n",
       "    <tr>\n",
       "      <th>2</th>\n",
       "      <td>7606055105030001</td>\n",
       "      <td>SULAWESI BARAT</td>\n",
       "      <td>KAB. MAMUJU TENGAH</td>\n",
       "      <td>Karossa</td>\n",
       "      <td>Female</td>\n",
       "      <td>2003-05-11</td>\n",
       "      <td>11 May 2003</td>\n",
       "      <td>20</td>\n",
       "      <td>1</td>\n",
       "    </tr>\n",
       "    <tr>\n",
       "      <th>3</th>\n",
       "      <td>7317074601000015</td>\n",
       "      <td>SULAWESI SELATAN</td>\n",
       "      <td>KAB. LUWU</td>\n",
       "      <td>Belopa</td>\n",
       "      <td>Female</td>\n",
       "      <td>2000-01-06</td>\n",
       "      <td>06 January 2000</td>\n",
       "      <td>23</td>\n",
       "      <td>15</td>\n",
       "    </tr>\n",
       "    <tr>\n",
       "      <th>4</th>\n",
       "      <td>3215114911920008</td>\n",
       "      <td>JAWA BARAT</td>\n",
       "      <td>KAB. KARAWANG</td>\n",
       "      <td>Cibuaya</td>\n",
       "      <td>Female</td>\n",
       "      <td>1992-11-09</td>\n",
       "      <td>09 November 1992</td>\n",
       "      <td>31</td>\n",
       "      <td>8</td>\n",
       "    </tr>\n",
       "  </tbody>\n",
       "</table>\n",
       "</div>"
      ],
      "text/plain": [
       "                NIK             province                city      district  \\\n",
       "0  5203172209040014  NUSA TENGGARA BARAT   KAB. LOMBOK TIMUR  Labuhan Haji   \n",
       "1  1705032211020016             BENGKULU         KAB. SELUMA          Talo   \n",
       "2  7606055105030001       SULAWESI BARAT  KAB. MAMUJU TENGAH       Karossa   \n",
       "3  7317074601000015     SULAWESI SELATAN           KAB. LUWU        Belopa   \n",
       "4  3215114911920008           JAWA BARAT       KAB. KARAWANG       Cibuaya   \n",
       "\n",
       "   gender birth_datetime           birthday  age  regist_code  \n",
       "0    Male     2004-09-22  22 September 2004   19           14  \n",
       "1    Male     2002-11-22   22 November 2002   21           16  \n",
       "2  Female     2003-05-11        11 May 2003   20            1  \n",
       "3  Female     2000-01-06    06 January 2000   23           15  \n",
       "4  Female     1992-11-09   09 November 1992   31            8  "
      ]
     },
     "execution_count": 3,
     "metadata": {},
     "output_type": "execute_result"
    }
   ],
   "source": [
    "nik_generate = pd.DataFrame(customer['NIK'].apply(lambda x: nr.NIK(x).all_info).tolist())\n",
    "nik_generate.head()"
   ]
  },
  {
   "cell_type": "markdown",
   "metadata": {},
   "source": [
    "merge data"
   ]
  },
  {
   "cell_type": "code",
   "execution_count": 4,
   "metadata": {},
   "outputs": [
    {
     "data": {
      "text/html": [
       "<div>\n",
       "<style scoped>\n",
       "    .dataframe tbody tr th:only-of-type {\n",
       "        vertical-align: middle;\n",
       "    }\n",
       "\n",
       "    .dataframe tbody tr th {\n",
       "        vertical-align: top;\n",
       "    }\n",
       "\n",
       "    .dataframe thead th {\n",
       "        text-align: right;\n",
       "    }\n",
       "</style>\n",
       "<table border=\"1\" class=\"dataframe\">\n",
       "  <thead>\n",
       "    <tr style=\"text-align: right;\">\n",
       "      <th></th>\n",
       "      <th>CustomerID</th>\n",
       "      <th>NIK</th>\n",
       "      <th>Annual_Income</th>\n",
       "      <th>Spending_Score</th>\n",
       "      <th>Profession</th>\n",
       "      <th>Work_Experience</th>\n",
       "      <th>Family_Size</th>\n",
       "      <th>province</th>\n",
       "      <th>city</th>\n",
       "      <th>district</th>\n",
       "      <th>gender</th>\n",
       "      <th>birth_datetime</th>\n",
       "      <th>birthday</th>\n",
       "      <th>age</th>\n",
       "      <th>regist_code</th>\n",
       "    </tr>\n",
       "  </thead>\n",
       "  <tbody>\n",
       "    <tr>\n",
       "      <th>0</th>\n",
       "      <td>1</td>\n",
       "      <td>5203172209040014</td>\n",
       "      <td>15000000</td>\n",
       "      <td>39</td>\n",
       "      <td>Healthcare</td>\n",
       "      <td>1</td>\n",
       "      <td>4</td>\n",
       "      <td>NUSA TENGGARA BARAT</td>\n",
       "      <td>KAB. LOMBOK TIMUR</td>\n",
       "      <td>Labuhan Haji</td>\n",
       "      <td>Male</td>\n",
       "      <td>2004-09-22</td>\n",
       "      <td>22 September 2004</td>\n",
       "      <td>19</td>\n",
       "      <td>14</td>\n",
       "    </tr>\n",
       "    <tr>\n",
       "      <th>1</th>\n",
       "      <td>2</td>\n",
       "      <td>1705032211020016</td>\n",
       "      <td>35000000</td>\n",
       "      <td>81</td>\n",
       "      <td>Engineer</td>\n",
       "      <td>3</td>\n",
       "      <td>3</td>\n",
       "      <td>BENGKULU</td>\n",
       "      <td>KAB. SELUMA</td>\n",
       "      <td>Talo</td>\n",
       "      <td>Male</td>\n",
       "      <td>2002-11-22</td>\n",
       "      <td>22 November 2002</td>\n",
       "      <td>21</td>\n",
       "      <td>16</td>\n",
       "    </tr>\n",
       "    <tr>\n",
       "      <th>2</th>\n",
       "      <td>3</td>\n",
       "      <td>7606055105030001</td>\n",
       "      <td>86000000</td>\n",
       "      <td>6</td>\n",
       "      <td>Engineer</td>\n",
       "      <td>1</td>\n",
       "      <td>1</td>\n",
       "      <td>SULAWESI BARAT</td>\n",
       "      <td>KAB. MAMUJU TENGAH</td>\n",
       "      <td>Karossa</td>\n",
       "      <td>Female</td>\n",
       "      <td>2003-05-11</td>\n",
       "      <td>11 May 2003</td>\n",
       "      <td>20</td>\n",
       "      <td>1</td>\n",
       "    </tr>\n",
       "    <tr>\n",
       "      <th>3</th>\n",
       "      <td>4</td>\n",
       "      <td>7317074601000015</td>\n",
       "      <td>59000000</td>\n",
       "      <td>77</td>\n",
       "      <td>Lawyer</td>\n",
       "      <td>0</td>\n",
       "      <td>2</td>\n",
       "      <td>SULAWESI SELATAN</td>\n",
       "      <td>KAB. LUWU</td>\n",
       "      <td>Belopa</td>\n",
       "      <td>Female</td>\n",
       "      <td>2000-01-06</td>\n",
       "      <td>06 January 2000</td>\n",
       "      <td>23</td>\n",
       "      <td>15</td>\n",
       "    </tr>\n",
       "    <tr>\n",
       "      <th>4</th>\n",
       "      <td>5</td>\n",
       "      <td>3215114911920008</td>\n",
       "      <td>38000000</td>\n",
       "      <td>40</td>\n",
       "      <td>Entertainment</td>\n",
       "      <td>2</td>\n",
       "      <td>6</td>\n",
       "      <td>JAWA BARAT</td>\n",
       "      <td>KAB. KARAWANG</td>\n",
       "      <td>Cibuaya</td>\n",
       "      <td>Female</td>\n",
       "      <td>1992-11-09</td>\n",
       "      <td>09 November 1992</td>\n",
       "      <td>31</td>\n",
       "      <td>8</td>\n",
       "    </tr>\n",
       "  </tbody>\n",
       "</table>\n",
       "</div>"
      ],
      "text/plain": [
       "   CustomerID               NIK  Annual_Income  Spending_Score     Profession  \\\n",
       "0           1  5203172209040014       15000000              39     Healthcare   \n",
       "1           2  1705032211020016       35000000              81       Engineer   \n",
       "2           3  7606055105030001       86000000               6       Engineer   \n",
       "3           4  7317074601000015       59000000              77         Lawyer   \n",
       "4           5  3215114911920008       38000000              40  Entertainment   \n",
       "\n",
       "   Work_Experience  Family_Size             province                city  \\\n",
       "0                1            4  NUSA TENGGARA BARAT   KAB. LOMBOK TIMUR   \n",
       "1                3            3             BENGKULU         KAB. SELUMA   \n",
       "2                1            1       SULAWESI BARAT  KAB. MAMUJU TENGAH   \n",
       "3                0            2     SULAWESI SELATAN           KAB. LUWU   \n",
       "4                2            6           JAWA BARAT       KAB. KARAWANG   \n",
       "\n",
       "       district  gender birth_datetime           birthday  age  regist_code  \n",
       "0  Labuhan Haji    Male     2004-09-22  22 September 2004   19           14  \n",
       "1          Talo    Male     2002-11-22   22 November 2002   21           16  \n",
       "2       Karossa  Female     2003-05-11        11 May 2003   20            1  \n",
       "3        Belopa  Female     2000-01-06    06 January 2000   23           15  \n",
       "4       Cibuaya  Female     1992-11-09   09 November 1992   31            8  "
      ]
     },
     "execution_count": 4,
     "metadata": {},
     "output_type": "execute_result"
    }
   ],
   "source": [
    "customer_merge = customer.merge(right=nik_generate, on='NIK')\n",
    "customer_merge.head()"
   ]
  },
  {
   "cell_type": "code",
   "execution_count": 5,
   "metadata": {},
   "outputs": [
    {
     "data": {
      "text/plain": [
       "CustomerID                  int64\n",
       "NIK                         int64\n",
       "Annual_Income               int64\n",
       "Spending_Score              int64\n",
       "Profession                 object\n",
       "Work_Experience             int64\n",
       "Family_Size                 int64\n",
       "province                   object\n",
       "city                       object\n",
       "district                   object\n",
       "gender                     object\n",
       "birth_datetime     datetime64[ns]\n",
       "birthday                   object\n",
       "age                         int64\n",
       "regist_code                 int64\n",
       "dtype: object"
      ]
     },
     "execution_count": 5,
     "metadata": {},
     "output_type": "execute_result"
    }
   ],
   "source": [
    "customer_merge.dtypes"
   ]
  },
  {
   "cell_type": "code",
   "execution_count": 6,
   "metadata": {},
   "outputs": [],
   "source": [
    "customer_merge['birth_year'] = customer_merge['birth_datetime'].dt.year"
   ]
  },
  {
   "cell_type": "code",
   "execution_count": 7,
   "metadata": {},
   "outputs": [],
   "source": [
    "customer_merge['gender'] = customer_merge['gender'].astype('category')\n",
    "customer_merge['Profession'] = customer_merge['Profession'].astype('category')"
   ]
  },
  {
   "cell_type": "code",
   "execution_count": 8,
   "metadata": {},
   "outputs": [
    {
     "data": {
      "text/plain": [
       "CustomerID                  int64\n",
       "NIK                         int64\n",
       "Annual_Income               int64\n",
       "Spending_Score              int64\n",
       "Profession               category\n",
       "Work_Experience             int64\n",
       "Family_Size                 int64\n",
       "province                   object\n",
       "city                       object\n",
       "district                   object\n",
       "gender                   category\n",
       "birth_datetime     datetime64[ns]\n",
       "birthday                   object\n",
       "age                         int64\n",
       "regist_code                 int64\n",
       "birth_year                  int32\n",
       "dtype: object"
      ]
     },
     "execution_count": 8,
     "metadata": {},
     "output_type": "execute_result"
    }
   ],
   "source": [
    "customer_merge.dtypes"
   ]
  },
  {
   "cell_type": "markdown",
   "metadata": {},
   "source": [
    "binning"
   ]
  },
  {
   "cell_type": "code",
   "execution_count": 9,
   "metadata": {},
   "outputs": [
    {
     "data": {
      "text/html": [
       "<div>\n",
       "<style scoped>\n",
       "    .dataframe tbody tr th:only-of-type {\n",
       "        vertical-align: middle;\n",
       "    }\n",
       "\n",
       "    .dataframe tbody tr th {\n",
       "        vertical-align: top;\n",
       "    }\n",
       "\n",
       "    .dataframe thead th {\n",
       "        text-align: right;\n",
       "    }\n",
       "</style>\n",
       "<table border=\"1\" class=\"dataframe\">\n",
       "  <thead>\n",
       "    <tr style=\"text-align: right;\">\n",
       "      <th></th>\n",
       "      <th>CustomerID</th>\n",
       "      <th>NIK</th>\n",
       "      <th>Annual_Income</th>\n",
       "      <th>Spending_Score</th>\n",
       "      <th>Profession</th>\n",
       "      <th>Work_Experience</th>\n",
       "      <th>Family_Size</th>\n",
       "      <th>province</th>\n",
       "      <th>city</th>\n",
       "      <th>district</th>\n",
       "      <th>gender</th>\n",
       "      <th>birth_datetime</th>\n",
       "      <th>birthday</th>\n",
       "      <th>age</th>\n",
       "      <th>regist_code</th>\n",
       "      <th>birth_year</th>\n",
       "      <th>generation</th>\n",
       "    </tr>\n",
       "  </thead>\n",
       "  <tbody>\n",
       "    <tr>\n",
       "      <th>0</th>\n",
       "      <td>1</td>\n",
       "      <td>5203172209040014</td>\n",
       "      <td>15000000</td>\n",
       "      <td>39</td>\n",
       "      <td>Healthcare</td>\n",
       "      <td>1</td>\n",
       "      <td>4</td>\n",
       "      <td>NUSA TENGGARA BARAT</td>\n",
       "      <td>KAB. LOMBOK TIMUR</td>\n",
       "      <td>Labuhan Haji</td>\n",
       "      <td>Male</td>\n",
       "      <td>2004-09-22</td>\n",
       "      <td>22 September 2004</td>\n",
       "      <td>19</td>\n",
       "      <td>14</td>\n",
       "      <td>2004</td>\n",
       "      <td>Gen. Z (Zoomers)</td>\n",
       "    </tr>\n",
       "    <tr>\n",
       "      <th>1</th>\n",
       "      <td>2</td>\n",
       "      <td>1705032211020016</td>\n",
       "      <td>35000000</td>\n",
       "      <td>81</td>\n",
       "      <td>Engineer</td>\n",
       "      <td>3</td>\n",
       "      <td>3</td>\n",
       "      <td>BENGKULU</td>\n",
       "      <td>KAB. SELUMA</td>\n",
       "      <td>Talo</td>\n",
       "      <td>Male</td>\n",
       "      <td>2002-11-22</td>\n",
       "      <td>22 November 2002</td>\n",
       "      <td>21</td>\n",
       "      <td>16</td>\n",
       "      <td>2002</td>\n",
       "      <td>Gen. Z (Zoomers)</td>\n",
       "    </tr>\n",
       "    <tr>\n",
       "      <th>2</th>\n",
       "      <td>3</td>\n",
       "      <td>7606055105030001</td>\n",
       "      <td>86000000</td>\n",
       "      <td>6</td>\n",
       "      <td>Engineer</td>\n",
       "      <td>1</td>\n",
       "      <td>1</td>\n",
       "      <td>SULAWESI BARAT</td>\n",
       "      <td>KAB. MAMUJU TENGAH</td>\n",
       "      <td>Karossa</td>\n",
       "      <td>Female</td>\n",
       "      <td>2003-05-11</td>\n",
       "      <td>11 May 2003</td>\n",
       "      <td>20</td>\n",
       "      <td>1</td>\n",
       "      <td>2003</td>\n",
       "      <td>Gen. Z (Zoomers)</td>\n",
       "    </tr>\n",
       "    <tr>\n",
       "      <th>3</th>\n",
       "      <td>4</td>\n",
       "      <td>7317074601000015</td>\n",
       "      <td>59000000</td>\n",
       "      <td>77</td>\n",
       "      <td>Lawyer</td>\n",
       "      <td>0</td>\n",
       "      <td>2</td>\n",
       "      <td>SULAWESI SELATAN</td>\n",
       "      <td>KAB. LUWU</td>\n",
       "      <td>Belopa</td>\n",
       "      <td>Female</td>\n",
       "      <td>2000-01-06</td>\n",
       "      <td>06 January 2000</td>\n",
       "      <td>23</td>\n",
       "      <td>15</td>\n",
       "      <td>2000</td>\n",
       "      <td>Gen. Z (Zoomers)</td>\n",
       "    </tr>\n",
       "    <tr>\n",
       "      <th>4</th>\n",
       "      <td>5</td>\n",
       "      <td>3215114911920008</td>\n",
       "      <td>38000000</td>\n",
       "      <td>40</td>\n",
       "      <td>Entertainment</td>\n",
       "      <td>2</td>\n",
       "      <td>6</td>\n",
       "      <td>JAWA BARAT</td>\n",
       "      <td>KAB. KARAWANG</td>\n",
       "      <td>Cibuaya</td>\n",
       "      <td>Female</td>\n",
       "      <td>1992-11-09</td>\n",
       "      <td>09 November 1992</td>\n",
       "      <td>31</td>\n",
       "      <td>8</td>\n",
       "      <td>1992</td>\n",
       "      <td>Gen. Y (Millenials)</td>\n",
       "    </tr>\n",
       "  </tbody>\n",
       "</table>\n",
       "</div>"
      ],
      "text/plain": [
       "   CustomerID               NIK  Annual_Income  Spending_Score     Profession  \\\n",
       "0           1  5203172209040014       15000000              39     Healthcare   \n",
       "1           2  1705032211020016       35000000              81       Engineer   \n",
       "2           3  7606055105030001       86000000               6       Engineer   \n",
       "3           4  7317074601000015       59000000              77         Lawyer   \n",
       "4           5  3215114911920008       38000000              40  Entertainment   \n",
       "\n",
       "   Work_Experience  Family_Size             province                city  \\\n",
       "0                1            4  NUSA TENGGARA BARAT   KAB. LOMBOK TIMUR   \n",
       "1                3            3             BENGKULU         KAB. SELUMA   \n",
       "2                1            1       SULAWESI BARAT  KAB. MAMUJU TENGAH   \n",
       "3                0            2     SULAWESI SELATAN           KAB. LUWU   \n",
       "4                2            6           JAWA BARAT       KAB. KARAWANG   \n",
       "\n",
       "       district  gender birth_datetime           birthday  age  regist_code  \\\n",
       "0  Labuhan Haji    Male     2004-09-22  22 September 2004   19           14   \n",
       "1          Talo    Male     2002-11-22   22 November 2002   21           16   \n",
       "2       Karossa  Female     2003-05-11        11 May 2003   20            1   \n",
       "3        Belopa  Female     2000-01-06    06 January 2000   23           15   \n",
       "4       Cibuaya  Female     1992-11-09   09 November 1992   31            8   \n",
       "\n",
       "   birth_year           generation  \n",
       "0        2004     Gen. Z (Zoomers)  \n",
       "1        2002     Gen. Z (Zoomers)  \n",
       "2        2003     Gen. Z (Zoomers)  \n",
       "3        2000     Gen. Z (Zoomers)  \n",
       "4        1992  Gen. Y (Millenials)  "
      ]
     },
     "execution_count": 9,
     "metadata": {},
     "output_type": "execute_result"
    }
   ],
   "source": [
    "import numpy as np\n",
    "\n",
    "gen_bins =  [1945, 1964, 1980, 1996, 2012]\n",
    "gen_names = ['Boomers', 'Gen. X', 'Gen. Y (Millenials)', 'Gen. Z (Zoomers)']\n",
    "\n",
    "# simpan ke kolom 'generation'\n",
    "customer_merge['generation'] = pd.cut(x=customer_merge['birth_year'], bins=gen_bins, labels=gen_names)\n",
    "customer_merge.head()"
   ]
  },
  {
   "cell_type": "code",
   "execution_count": 10,
   "metadata": {},
   "outputs": [
    {
     "name": "stdout",
     "output_type": "stream",
     "text": [
      "['Gen. Z (Zoomers)', 'Gen. Y (Millenials)', 'Boomers', 'Gen. X']\n",
      "Categories (4, object): ['Boomers' < 'Gen. X' < 'Gen. Y (Millenials)' < 'Gen. Z (Zoomers)']\n"
     ]
    }
   ],
   "source": [
    "print(customer_merge['generation'].unique())"
   ]
  },
  {
   "cell_type": "markdown",
   "metadata": {},
   "source": [
    "export to pkl"
   ]
  },
  {
   "cell_type": "code",
   "execution_count": 11,
   "metadata": {},
   "outputs": [],
   "source": [
    "customer_merge.to_pickle('data/customer_merge.pkl')"
   ]
  },
  {
   "cell_type": "code",
   "execution_count": 12,
   "metadata": {},
   "outputs": [
    {
     "data": {
      "text/plain": [
       "<Axes: >"
      ]
     },
     "execution_count": 12,
     "metadata": {},
     "output_type": "execute_result"
    },
    {
     "data": {
      "image/png": "[encoded data removed]",
      "text/plain": [
       "<Figure size 640x480 with 1 Axes>"
      ]
     },
     "metadata": {},
     "output_type": "display_data"
    }
   ],
   "source": [
    "customer_merge['Annual_Income'].plot(kind='box')"
   ]
  },
  {
   "cell_type": "code",
   "execution_count": 13,
   "metadata": {},
   "outputs": [
    {
     "data": {
      "text/html": [
       "<div>\n",
       "<style scoped>\n",
       "    .dataframe tbody tr th:only-of-type {\n",
       "        vertical-align: middle;\n",
       "    }\n",
       "\n",
       "    .dataframe tbody tr th {\n",
       "        vertical-align: top;\n",
       "    }\n",
       "\n",
       "    .dataframe thead th {\n",
       "        text-align: right;\n",
       "    }\n",
       "</style>\n",
       "<table border=\"1\" class=\"dataframe\">\n",
       "  <thead>\n",
       "    <tr style=\"text-align: right;\">\n",
       "      <th></th>\n",
       "      <th>Female</th>\n",
       "      <th>Male</th>\n",
       "    </tr>\n",
       "    <tr>\n",
       "      <th>generation</th>\n",
       "      <th></th>\n",
       "      <th></th>\n",
       "    </tr>\n",
       "  </thead>\n",
       "  <tbody>\n",
       "    <tr>\n",
       "      <th>Boomers</th>\n",
       "      <td>127</td>\n",
       "      <td>90</td>\n",
       "    </tr>\n",
       "    <tr>\n",
       "      <th>Gen. X</th>\n",
       "      <td>204</td>\n",
       "      <td>110</td>\n",
       "    </tr>\n",
       "    <tr>\n",
       "      <th>Gen. Y (Millenials)</th>\n",
       "      <td>216</td>\n",
       "      <td>143</td>\n",
       "    </tr>\n",
       "    <tr>\n",
       "      <th>Gen. Z (Zoomers)</th>\n",
       "      <td>122</td>\n",
       "      <td>95</td>\n",
       "    </tr>\n",
       "  </tbody>\n",
       "</table>\n",
       "</div>"
      ],
      "text/plain": [
       "                     Female  Male\n",
       "generation                       \n",
       "Boomers                 127    90\n",
       "Gen. X                  204   110\n",
       "Gen. Y (Millenials)     216   143\n",
       "Gen. Z (Zoomers)        122    95"
      ]
     },
     "execution_count": 13,
     "metadata": {},
     "output_type": "execute_result"
    }
   ],
   "source": [
    "gen = pd.crosstab(index=customer_merge['generation'],\n",
    "                     columns=customer_merge['gender'],\n",
    "                     colnames=[None])\n",
    "\n",
    "gen"
   ]
  },
  {
   "cell_type": "code",
   "execution_count": 14,
   "metadata": {},
   "outputs": [
    {
     "name": "stderr",
     "output_type": "stream",
     "text": [
      "C:\\Users\\Lenovo\\AppData\\Local\\Temp\\ipykernel_24040\\539578301.py:1: FutureWarning: The default of observed=False is deprecated and will be changed to True in a future version of pandas. Pass observed=False to retain current behavior or observed=True to adopt the future default and silence this warning.\n",
      "  gen_income = customer_merge.groupby('generation')[['Annual_Income', 'Spending_Score']].mean()\n"
     ]
    }
   ],
   "source": [
    "gen_income = customer_merge.groupby('generation')[['Annual_Income', 'Spending_Score']].mean()\n",
    "\n",
    "gen_income = gen_income.dropna()"
   ]
  },
  {
   "cell_type": "code",
   "execution_count": 15,
   "metadata": {},
   "outputs": [
    {
     "data": {
      "text/html": [
       "<div>\n",
       "<style scoped>\n",
       "    .dataframe tbody tr th:only-of-type {\n",
       "        vertical-align: middle;\n",
       "    }\n",
       "\n",
       "    .dataframe tbody tr th {\n",
       "        vertical-align: top;\n",
       "    }\n",
       "\n",
       "    .dataframe thead th {\n",
       "        text-align: right;\n",
       "    }\n",
       "</style>\n",
       "<table border=\"1\" class=\"dataframe\">\n",
       "  <thead>\n",
       "    <tr style=\"text-align: right;\">\n",
       "      <th></th>\n",
       "      <th>generation</th>\n",
       "      <th>Annual_Income</th>\n",
       "      <th>Spending_Score</th>\n",
       "    </tr>\n",
       "  </thead>\n",
       "  <tbody>\n",
       "    <tr>\n",
       "      <th>0</th>\n",
       "      <td>Boomers</td>\n",
       "      <td>1.146113e+08</td>\n",
       "      <td>51.465438</td>\n",
       "    </tr>\n",
       "    <tr>\n",
       "      <th>1</th>\n",
       "      <td>Gen. X</td>\n",
       "      <td>1.048226e+08</td>\n",
       "      <td>49.770701</td>\n",
       "    </tr>\n",
       "    <tr>\n",
       "      <th>2</th>\n",
       "      <td>Gen. Y (Millenials)</td>\n",
       "      <td>1.022112e+08</td>\n",
       "      <td>50.270195</td>\n",
       "    </tr>\n",
       "    <tr>\n",
       "      <th>3</th>\n",
       "      <td>Gen. Z (Zoomers)</td>\n",
       "      <td>1.066444e+08</td>\n",
       "      <td>51.686636</td>\n",
       "    </tr>\n",
       "  </tbody>\n",
       "</table>\n",
       "</div>"
      ],
      "text/plain": [
       "            generation  Annual_Income  Spending_Score\n",
       "0              Boomers   1.146113e+08       51.465438\n",
       "1               Gen. X   1.048226e+08       49.770701\n",
       "2  Gen. Y (Millenials)   1.022112e+08       50.270195\n",
       "3     Gen. Z (Zoomers)   1.066444e+08       51.686636"
      ]
     },
     "execution_count": 15,
     "metadata": {},
     "output_type": "execute_result"
    }
   ],
   "source": [
    "gen_income = gen_income.reset_index()\n",
    "gen_income"
   ]
  },
  {
   "cell_type": "code",
   "execution_count": 16,
   "metadata": {},
   "outputs": [
    {
     "data": {
      "text/html": [
       "<div>\n",
       "<style scoped>\n",
       "    .dataframe tbody tr th:only-of-type {\n",
       "        vertical-align: middle;\n",
       "    }\n",
       "\n",
       "    .dataframe tbody tr th {\n",
       "        vertical-align: top;\n",
       "    }\n",
       "\n",
       "    .dataframe thead th {\n",
       "        text-align: right;\n",
       "    }\n",
       "</style>\n",
       "<table border=\"1\" class=\"dataframe\">\n",
       "  <thead>\n",
       "    <tr style=\"text-align: right;\">\n",
       "      <th></th>\n",
       "      <th>generation</th>\n",
       "      <th>Annual_Income</th>\n",
       "      <th>Spending_Score</th>\n",
       "    </tr>\n",
       "  </thead>\n",
       "  <tbody>\n",
       "    <tr>\n",
       "      <th>0</th>\n",
       "      <td>Boomers</td>\n",
       "      <td>114.611313</td>\n",
       "      <td>51.465438</td>\n",
       "    </tr>\n",
       "    <tr>\n",
       "      <th>1</th>\n",
       "      <td>Gen. X</td>\n",
       "      <td>104.822551</td>\n",
       "      <td>49.770701</td>\n",
       "    </tr>\n",
       "    <tr>\n",
       "      <th>2</th>\n",
       "      <td>Gen. Y (Millenials)</td>\n",
       "      <td>102.211167</td>\n",
       "      <td>50.270195</td>\n",
       "    </tr>\n",
       "    <tr>\n",
       "      <th>3</th>\n",
       "      <td>Gen. Z (Zoomers)</td>\n",
       "      <td>106.644438</td>\n",
       "      <td>51.686636</td>\n",
       "    </tr>\n",
       "  </tbody>\n",
       "</table>\n",
       "</div>"
      ],
      "text/plain": [
       "            generation  Annual_Income  Spending_Score\n",
       "0              Boomers     114.611313       51.465438\n",
       "1               Gen. X     104.822551       49.770701\n",
       "2  Gen. Y (Millenials)     102.211167       50.270195\n",
       "3     Gen. Z (Zoomers)     106.644438       51.686636"
      ]
     },
     "execution_count": 16,
     "metadata": {},
     "output_type": "execute_result"
    }
   ],
   "source": [
    "gen_income['Annual_Income'] = gen_income['Annual_Income']/1000000\n",
    "gen_income\n",
    "# in millions"
   ]
  },
  {
   "cell_type": "code",
   "execution_count": 17,
   "metadata": {},
   "outputs": [
    {
     "data": {
      "application/vnd.plotly.v1+json": {
       "config": {
        "plotlyServerURL": "https://plot.ly"
       },
       "data": [
        {
         "alignmentgroup": "True",
         "hovertemplate": "Metric=Annual_Income<br>generation=%{x}<br>Values=%{y}<extra></extra>",
         "legendgroup": "Annual_Income",
         "marker": {
          "color": "#636efa",
          "pattern": {
           "shape": ""
          }
         },
         "name": "Annual_Income",
         "offsetgroup": "Annual_Income",
         "orientation": "v",
         "showlegend": true,
         "textposition": "auto",
         "type": "bar",
         "x": [
          "Boomers",
          "Gen. X",
          "Gen. Y (Millenials)",
          "Gen. Z (Zoomers)"
         ],
         "xaxis": "x",
         "y": [
          114.6113133640553,
          104.82255095541402,
          102.21116713091922,
          106.64443778801844
         ],
         "yaxis": "y"
        },
        {
         "alignmentgroup": "True",
         "hovertemplate": "Metric=Spending_Score<br>generation=%{x}<br>Values=%{y}<extra></extra>",
         "legendgroup": "Spending_Score",
         "marker": {
          "color": "#EF553B",
          "pattern": {
           "shape": ""
          }
         },
         "name": "Spending_Score",
         "offsetgroup": "Spending_Score",
         "orientation": "v",
         "showlegend": true,
         "textposition": "auto",
         "type": "bar",
         "x": [
          "Boomers",
          "Gen. X",
          "Gen. Y (Millenials)",
          "Gen. Z (Zoomers)"
         ],
         "xaxis": "x",
         "y": [
          51.465437788018434,
          49.77070063694268,
          50.270194986072426,
          51.68663594470046
         ],
         "yaxis": "y"
        }
       ],
       "layout": {
        "barmode": "group",
        "legend": {
         "title": {
          "text": "Metric"
         },
         "tracegroupgap": 0
        },
        "template": {
         "data": {
          "bar": [
           {
            "error_x": {
             "color": "#f2f5fa"
            },
            "error_y": {
             "color": "#f2f5fa"
            },
            "marker": {
             "line": {
              "color": "rgb(17,17,17)",
              "width": 0.5
             },
             "pattern": {
              "fillmode": "overlay",
              "size": 10,
              "solidity": 0.2
             }
            },
            "type": "bar"
           }
          ],
          "barpolar": [
           {
            "marker": {
             "line": {
              "color": "rgb(17,17,17)",
              "width": 0.5
             },
             "pattern": {
              "fillmode": "overlay",
              "size": 10,
              "solidity": 0.2
             }
            },
            "type": "barpolar"
           }
          ],
          "carpet": [
           {
            "aaxis": {
             "endlinecolor": "#A2B1C6",
             "gridcolor": "#506784",
             "linecolor": "#506784",
             "minorgridcolor": "#506784",
             "startlinecolor": "#A2B1C6"
            },
            "baxis": {
             "endlinecolor": "#A2B1C6",
             "gridcolor": "#506784",
             "linecolor": "#506784",
             "minorgridcolor": "#506784",
             "startlinecolor": "#A2B1C6"
            },
            "type": "carpet"
           }
          ],
          "choropleth": [
           {
            "colorbar": {
             "outlinewidth": 0,
             "ticks": ""
            },
            "type": "choropleth"
           }
          ],
          "contour": [
           {
            "colorbar": {
             "outlinewidth": 0,
             "ticks": ""
            },
            "colorscale": [
             [
              0,
              "#0d0887"
             ],
             [
              0.1111111111111111,
              "#46039f"
             ],
             [
              0.2222222222222222,
              "#7201a8"
             ],
             [
              0.3333333333333333,
              "#9c179e"
             ],
             [
              0.4444444444444444,
              "#bd3786"
             ],
             [
              0.5555555555555556,
              "#d8576b"
             ],
             [
              0.6666666666666666,
              "#ed7953"
             ],
             [
              0.7777777777777778,
              "#fb9f3a"
             ],
             [
              0.8888888888888888,
              "#fdca26"
             ],
             [
              1,
              "#f0f921"
             ]
            ],
            "type": "contour"
           }
          ],
          "contourcarpet": [
           {
            "colorbar": {
             "outlinewidth": 0,
             "ticks": ""
            },
            "type": "contourcarpet"
           }
          ],
          "heatmap": [
           {
            "colorbar": {
             "outlinewidth": 0,
             "ticks": ""
            },
            "colorscale": [
             [
              0,
              "#0d0887"
             ],
             [
              0.1111111111111111,
              "#46039f"
             ],
             [
              0.2222222222222222,
              "#7201a8"
             ],
             [
              0.3333333333333333,
              "#9c179e"
             ],
             [
              0.4444444444444444,
              "#bd3786"
             ],
             [
              0.5555555555555556,
              "#d8576b"
             ],
             [
              0.6666666666666666,
              "#ed7953"
             ],
             [
              0.7777777777777778,
              "#fb9f3a"
             ],
             [
              0.8888888888888888,
              "#fdca26"
             ],
             [
              1,
              "#f0f921"
             ]
            ],
            "type": "heatmap"
           }
          ],
          "heatmapgl": [
           {
            "colorbar": {
             "outlinewidth": 0,
             "ticks": ""
            },
            "colorscale": [
             [
              0,
              "#0d0887"
             ],
             [
              0.1111111111111111,
              "#46039f"
             ],
             [
              0.2222222222222222,
              "#7201a8"
             ],
             [
              0.3333333333333333,
              "#9c179e"
             ],
             [
              0.4444444444444444,
              "#bd3786"
             ],
             [
              0.5555555555555556,
              "#d8576b"
             ],
             [
              0.6666666666666666,
              "#ed7953"
             ],
             [
              0.7777777777777778,
              "#fb9f3a"
             ],
             [
              0.8888888888888888,
              "#fdca26"
             ],
             [
              1,
              "#f0f921"
             ]
            ],
            "type": "heatmapgl"
           }
          ],
          "histogram": [
           {
            "marker": {
             "pattern": {
              "fillmode": "overlay",
              "size": 10,
              "solidity": 0.2
             }
            },
            "type": "histogram"
           }
          ],
          "histogram2d": [
           {
            "colorbar": {
             "outlinewidth": 0,
             "ticks": ""
            },
            "colorscale": [
             [
              0,
              "#0d0887"
             ],
             [
              0.1111111111111111,
              "#46039f"
             ],
             [
              0.2222222222222222,
              "#7201a8"
             ],
             [
              0.3333333333333333,
              "#9c179e"
             ],
             [
              0.4444444444444444,
              "#bd3786"
             ],
             [
              0.5555555555555556,
              "#d8576b"
             ],
             [
              0.6666666666666666,
              "#ed7953"
             ],
             [
              0.7777777777777778,
              "#fb9f3a"
             ],
             [
              0.8888888888888888,
              "#fdca26"
             ],
             [
              1,
              "#f0f921"
             ]
            ],
            "type": "histogram2d"
           }
          ],
          "histogram2dcontour": [
           {
            "colorbar": {
             "outlinewidth": 0,
             "ticks": ""
            },
            "colorscale": [
             [
              0,
              "#0d0887"
             ],
             [
              0.1111111111111111,
              "#46039f"
             ],
             [
              0.2222222222222222,
              "#7201a8"
             ],
             [
              0.3333333333333333,
              "#9c179e"
             ],
             [
              0.4444444444444444,
              "#bd3786"
             ],
             [
              0.5555555555555556,
              "#d8576b"
             ],
             [
              0.6666666666666666,
              "#ed7953"
             ],
             [
              0.7777777777777778,
              "#fb9f3a"
             ],
             [
              0.8888888888888888,
              "#fdca26"
             ],
             [
              1,
              "#f0f921"
             ]
            ],
            "type": "histogram2dcontour"
           }
          ],
          "mesh3d": [
           {
            "colorbar": {
             "outlinewidth": 0,
             "ticks": ""
            },
            "type": "mesh3d"
           }
          ],
          "parcoords": [
           {
            "line": {
             "colorbar": {
              "outlinewidth": 0,
              "ticks": ""
             }
            },
            "type": "parcoords"
           }
          ],
          "pie": [
           {
            "automargin": true,
            "type": "pie"
           }
          ],
          "scatter": [
           {
            "marker": {
             "line": {
              "color": "#283442"
             }
            },
            "type": "scatter"
           }
          ],
          "scatter3d": [
           {
            "line": {
             "colorbar": {
              "outlinewidth": 0,
              "ticks": ""
             }
            },
            "marker": {
             "colorbar": {
              "outlinewidth": 0,
              "ticks": ""
             }
            },
            "type": "scatter3d"
           }
          ],
          "scattercarpet": [
           {
            "marker": {
             "colorbar": {
              "outlinewidth": 0,
              "ticks": ""
             }
            },
            "type": "scattercarpet"
           }
          ],
          "scattergeo": [
           {
            "marker": {
             "colorbar": {
              "outlinewidth": 0,
              "ticks": ""
             }
            },
            "type": "scattergeo"
           }
          ],
          "scattergl": [
           {
            "marker": {
             "line": {
              "color": "#283442"
             }
            },
            "type": "scattergl"
           }
          ],
          "scattermapbox": [
           {
            "marker": {
             "colorbar": {
              "outlinewidth": 0,
              "ticks": ""
             }
            },
            "type": "scattermapbox"
           }
          ],
          "scatterpolar": [
           {
            "marker": {
             "colorbar": {
              "outlinewidth": 0,
              "ticks": ""
             }
            },
            "type": "scatterpolar"
           }
          ],
          "scatterpolargl": [
           {
            "marker": {
             "colorbar": {
              "outlinewidth": 0,
              "ticks": ""
             }
            },
            "type": "scatterpolargl"
           }
          ],
          "scatterternary": [
           {
            "marker": {
             "colorbar": {
              "outlinewidth": 0,
              "ticks": ""
             }
            },
            "type": "scatterternary"
           }
          ],
          "surface": [
           {
            "colorbar": {
             "outlinewidth": 0,
             "ticks": ""
            },
            "colorscale": [
             [
              0,
              "#0d0887"
             ],
             [
              0.1111111111111111,
              "#46039f"
             ],
             [
              0.2222222222222222,
              "#7201a8"
             ],
             [
              0.3333333333333333,
              "#9c179e"
             ],
             [
              0.4444444444444444,
              "#bd3786"
             ],
             [
              0.5555555555555556,
              "#d8576b"
             ],
             [
              0.6666666666666666,
              "#ed7953"
             ],
             [
              0.7777777777777778,
              "#fb9f3a"
             ],
             [
              0.8888888888888888,
              "#fdca26"
             ],
             [
              1,
              "#f0f921"
             ]
            ],
            "type": "surface"
           }
          ],
          "table": [
           {
            "cells": {
             "fill": {
              "color": "#506784"
             },
             "line": {
              "color": "rgb(17,17,17)"
             }
            },
            "header": {
             "fill": {
              "color": "#2a3f5f"
             },
             "line": {
              "color": "rgb(17,17,17)"
             }
            },
            "type": "table"
           }
          ]
         },
         "layout": {
          "annotationdefaults": {
           "arrowcolor": "#f2f5fa",
           "arrowhead": 0,
           "arrowwidth": 1
          },
          "autotypenumbers": "strict",
          "coloraxis": {
           "colorbar": {
            "outlinewidth": 0,
            "ticks": ""
           }
          },
          "colorscale": {
           "diverging": [
            [
             0,
             "#8e0152"
            ],
            [
             0.1,
             "#c51b7d"
            ],
            [
             0.2,
             "#de77ae"
            ],
            [
             0.3,
             "#f1b6da"
            ],
            [
             0.4,
             "#fde0ef"
            ],
            [
             0.5,
             "#f7f7f7"
            ],
            [
             0.6,
             "#e6f5d0"
            ],
            [
             0.7,
             "#b8e186"
            ],
            [
             0.8,
             "#7fbc41"
            ],
            [
             0.9,
             "#4d9221"
            ],
            [
             1,
             "#276419"
            ]
           ],
           "sequential": [
            [
             0,
             "#0d0887"
            ],
            [
             0.1111111111111111,
             "#46039f"
            ],
            [
             0.2222222222222222,
             "#7201a8"
            ],
            [
             0.3333333333333333,
             "#9c179e"
            ],
            [
             0.4444444444444444,
             "#bd3786"
            ],
            [
             0.5555555555555556,
             "#d8576b"
            ],
            [
             0.6666666666666666,
             "#ed7953"
            ],
            [
             0.7777777777777778,
             "#fb9f3a"
            ],
            [
             0.8888888888888888,
             "#fdca26"
            ],
            [
             1,
             "#f0f921"
            ]
           ],
           "sequentialminus": [
            [
             0,
             "#0d0887"
            ],
            [
             0.1111111111111111,
             "#46039f"
            ],
            [
             0.2222222222222222,
             "#7201a8"
            ],
            [
             0.3333333333333333,
             "#9c179e"
            ],
            [
             0.4444444444444444,
             "#bd3786"
            ],
            [
             0.5555555555555556,
             "#d8576b"
            ],
            [
             0.6666666666666666,
             "#ed7953"
            ],
            [
             0.7777777777777778,
             "#fb9f3a"
            ],
            [
             0.8888888888888888,
             "#fdca26"
            ],
            [
             1,
             "#f0f921"
            ]
           ]
          },
          "colorway": [
           "#636efa",
           "#EF553B",
           "#00cc96",
           "#ab63fa",
           "#FFA15A",
           "#19d3f3",
           "#FF6692",
           "#B6E880",
           "#FF97FF",
           "#FECB52"
          ],
          "font": {
           "color": "#f2f5fa"
          },
          "geo": {
           "bgcolor": "rgb(17,17,17)",
           "lakecolor": "rgb(17,17,17)",
           "landcolor": "rgb(17,17,17)",
           "showlakes": true,
           "showland": true,
           "subunitcolor": "#506784"
          },
          "hoverlabel": {
           "align": "left"
          },
          "hovermode": "closest",
          "mapbox": {
           "style": "dark"
          },
          "paper_bgcolor": "rgb(17,17,17)",
          "plot_bgcolor": "rgb(17,17,17)",
          "polar": {
           "angularaxis": {
            "gridcolor": "#506784",
            "linecolor": "#506784",
            "ticks": ""
           },
           "bgcolor": "rgb(17,17,17)",
           "radialaxis": {
            "gridcolor": "#506784",
            "linecolor": "#506784",
            "ticks": ""
           }
          },
          "scene": {
           "xaxis": {
            "backgroundcolor": "rgb(17,17,17)",
            "gridcolor": "#506784",
            "gridwidth": 2,
            "linecolor": "#506784",
            "showbackground": true,
            "ticks": "",
            "zerolinecolor": "#C8D4E3"
           },
           "yaxis": {
            "backgroundcolor": "rgb(17,17,17)",
            "gridcolor": "#506784",
            "gridwidth": 2,
            "linecolor": "#506784",
            "showbackground": true,
            "ticks": "",
            "zerolinecolor": "#C8D4E3"
           },
           "zaxis": {
            "backgroundcolor": "rgb(17,17,17)",
            "gridcolor": "#506784",
            "gridwidth": 2,
            "linecolor": "#506784",
            "showbackground": true,
            "ticks": "",
            "zerolinecolor": "#C8D4E3"
           }
          },
          "shapedefaults": {
           "line": {
            "color": "#f2f5fa"
           }
          },
          "sliderdefaults": {
           "bgcolor": "#C8D4E3",
           "bordercolor": "rgb(17,17,17)",
           "borderwidth": 1,
           "tickwidth": 0
          },
          "ternary": {
           "aaxis": {
            "gridcolor": "#506784",
            "linecolor": "#506784",
            "ticks": ""
           },
           "baxis": {
            "gridcolor": "#506784",
            "linecolor": "#506784",
            "ticks": ""
           },
           "bgcolor": "rgb(17,17,17)",
           "caxis": {
            "gridcolor": "#506784",
            "linecolor": "#506784",
            "ticks": ""
           }
          },
          "title": {
           "x": 0.05
          },
          "updatemenudefaults": {
           "bgcolor": "#506784",
           "borderwidth": 0
          },
          "xaxis": {
           "automargin": true,
           "gridcolor": "#283442",
           "linecolor": "#506784",
           "ticks": "",
           "title": {
            "standoff": 15
           },
           "zerolinecolor": "#283442",
           "zerolinewidth": 2
          },
          "yaxis": {
           "automargin": true,
           "gridcolor": "#283442",
           "linecolor": "#506784",
           "ticks": "",
           "title": {
            "standoff": 15
           },
           "zerolinecolor": "#283442",
           "zerolinewidth": 2
          }
         }
        },
        "title": {
         "text": "Comparison of Annual Income and Spending Score by Generation"
        },
        "xaxis": {
         "anchor": "y",
         "domain": [
          0,
          1
         ],
         "title": {
          "text": "generation"
         }
        },
        "yaxis": {
         "anchor": "x",
         "domain": [
          0,
          1
         ],
         "title": {
          "text": "Values"
         }
        }
       }
      }
     },
     "metadata": {},
     "output_type": "display_data"
    }
   ],
   "source": [
    "plot_gen_income = px.bar(data_frame=gen_income,\n",
    "                         x='generation', y=['Annual_Income', 'Spending_Score'],\n",
    "             title='Comparison of Annual Income and Spending Score by Generation',\n",
    "             labels={'value': 'Values', 'variable': 'Metric'},\n",
    "             template='plotly_dark',\n",
    "             barmode='group')\n",
    "\n",
    "plot_gen_income"
   ]
  },
  {
   "cell_type": "code",
   "execution_count": 18,
   "metadata": {},
   "outputs": [
    {
     "data": {
      "text/html": [
       "<div>\n",
       "<style scoped>\n",
       "    .dataframe tbody tr th:only-of-type {\n",
       "        vertical-align: middle;\n",
       "    }\n",
       "\n",
       "    .dataframe tbody tr th {\n",
       "        vertical-align: top;\n",
       "    }\n",
       "\n",
       "    .dataframe thead th {\n",
       "        text-align: right;\n",
       "    }\n",
       "</style>\n",
       "<table border=\"1\" class=\"dataframe\">\n",
       "  <thead>\n",
       "    <tr style=\"text-align: right;\">\n",
       "      <th></th>\n",
       "      <th>province</th>\n",
       "      <th>latitude</th>\n",
       "      <th>longitude</th>\n",
       "    </tr>\n",
       "  </thead>\n",
       "  <tbody>\n",
       "    <tr>\n",
       "      <th>0</th>\n",
       "      <td>ACEH</td>\n",
       "      <td>4.36855</td>\n",
       "      <td>97.02530</td>\n",
       "    </tr>\n",
       "    <tr>\n",
       "      <th>1</th>\n",
       "      <td>SUMATERA UTARA</td>\n",
       "      <td>2.19235</td>\n",
       "      <td>99.38122</td>\n",
       "    </tr>\n",
       "    <tr>\n",
       "      <th>2</th>\n",
       "      <td>SUMATERA BARAT</td>\n",
       "      <td>-1.34225</td>\n",
       "      <td>100.07610</td>\n",
       "    </tr>\n",
       "    <tr>\n",
       "      <th>3</th>\n",
       "      <td>RIAU</td>\n",
       "      <td>0.50041</td>\n",
       "      <td>101.54758</td>\n",
       "    </tr>\n",
       "    <tr>\n",
       "      <th>4</th>\n",
       "      <td>JAMBI</td>\n",
       "      <td>-1.61157</td>\n",
       "      <td>102.77970</td>\n",
       "    </tr>\n",
       "  </tbody>\n",
       "</table>\n",
       "</div>"
      ],
      "text/plain": [
       "         province  latitude  longitude\n",
       "0            ACEH   4.36855   97.02530\n",
       "1  SUMATERA UTARA   2.19235   99.38122\n",
       "2  SUMATERA BARAT  -1.34225  100.07610\n",
       "3            RIAU   0.50041  101.54758\n",
       "4           JAMBI  -1.61157  102.77970"
      ]
     },
     "execution_count": 18,
     "metadata": {},
     "output_type": "execute_result"
    }
   ],
   "source": [
    "coord = pd.read_csv(\"data/coordinate.csv\")\n",
    "coord.head()"
   ]
  },
  {
   "cell_type": "code",
   "execution_count": 19,
   "metadata": {},
   "outputs": [
    {
     "data": {
      "text/html": [
       "<div>\n",
       "<style scoped>\n",
       "    .dataframe tbody tr th:only-of-type {\n",
       "        vertical-align: middle;\n",
       "    }\n",
       "\n",
       "    .dataframe tbody tr th {\n",
       "        vertical-align: top;\n",
       "    }\n",
       "\n",
       "    .dataframe thead th {\n",
       "        text-align: right;\n",
       "    }\n",
       "</style>\n",
       "<table border=\"1\" class=\"dataframe\">\n",
       "  <thead>\n",
       "    <tr style=\"text-align: right;\">\n",
       "      <th>generation</th>\n",
       "      <th>Boomers</th>\n",
       "      <th>Gen. X</th>\n",
       "      <th>Gen. Y (Millenials)</th>\n",
       "      <th>Gen. Z (Zoomers)</th>\n",
       "    </tr>\n",
       "    <tr>\n",
       "      <th>province</th>\n",
       "      <th></th>\n",
       "      <th></th>\n",
       "      <th></th>\n",
       "      <th></th>\n",
       "    </tr>\n",
       "  </thead>\n",
       "  <tbody>\n",
       "    <tr>\n",
       "      <th>ACEH</th>\n",
       "      <td>12</td>\n",
       "      <td>15</td>\n",
       "      <td>12</td>\n",
       "      <td>7</td>\n",
       "    </tr>\n",
       "    <tr>\n",
       "      <th>BALI</th>\n",
       "      <td>0</td>\n",
       "      <td>1</td>\n",
       "      <td>2</td>\n",
       "      <td>2</td>\n",
       "    </tr>\n",
       "    <tr>\n",
       "      <th>BANTEN</th>\n",
       "      <td>3</td>\n",
       "      <td>8</td>\n",
       "      <td>7</td>\n",
       "      <td>5</td>\n",
       "    </tr>\n",
       "    <tr>\n",
       "      <th>BENGKULU</th>\n",
       "      <td>5</td>\n",
       "      <td>6</td>\n",
       "      <td>4</td>\n",
       "      <td>7</td>\n",
       "    </tr>\n",
       "    <tr>\n",
       "      <th>DAERAH ISTIMEWA YOGYAKARTA</th>\n",
       "      <td>6</td>\n",
       "      <td>5</td>\n",
       "      <td>2</td>\n",
       "      <td>4</td>\n",
       "    </tr>\n",
       "    <tr>\n",
       "      <th>DKI JAKARTA</th>\n",
       "      <td>2</td>\n",
       "      <td>2</td>\n",
       "      <td>1</td>\n",
       "      <td>0</td>\n",
       "    </tr>\n",
       "    <tr>\n",
       "      <th>GORONTALO</th>\n",
       "      <td>1</td>\n",
       "      <td>7</td>\n",
       "      <td>4</td>\n",
       "      <td>3</td>\n",
       "    </tr>\n",
       "    <tr>\n",
       "      <th>JAMBI</th>\n",
       "      <td>9</td>\n",
       "      <td>6</td>\n",
       "      <td>8</td>\n",
       "      <td>4</td>\n",
       "    </tr>\n",
       "    <tr>\n",
       "      <th>JAWA BARAT</th>\n",
       "      <td>11</td>\n",
       "      <td>27</td>\n",
       "      <td>33</td>\n",
       "      <td>21</td>\n",
       "    </tr>\n",
       "    <tr>\n",
       "      <th>JAWA TENGAH</th>\n",
       "      <td>16</td>\n",
       "      <td>24</td>\n",
       "      <td>30</td>\n",
       "      <td>15</td>\n",
       "    </tr>\n",
       "    <tr>\n",
       "      <th>JAWA TIMUR</th>\n",
       "      <td>21</td>\n",
       "      <td>24</td>\n",
       "      <td>42</td>\n",
       "      <td>21</td>\n",
       "    </tr>\n",
       "    <tr>\n",
       "      <th>KALIMANTAN BARAT</th>\n",
       "      <td>5</td>\n",
       "      <td>6</td>\n",
       "      <td>7</td>\n",
       "      <td>6</td>\n",
       "    </tr>\n",
       "    <tr>\n",
       "      <th>KALIMANTAN SELATAN</th>\n",
       "      <td>4</td>\n",
       "      <td>5</td>\n",
       "      <td>6</td>\n",
       "      <td>2</td>\n",
       "    </tr>\n",
       "    <tr>\n",
       "      <th>KALIMANTAN TENGAH</th>\n",
       "      <td>4</td>\n",
       "      <td>6</td>\n",
       "      <td>9</td>\n",
       "      <td>4</td>\n",
       "    </tr>\n",
       "    <tr>\n",
       "      <th>KALIMANTAN TIMUR</th>\n",
       "      <td>3</td>\n",
       "      <td>7</td>\n",
       "      <td>6</td>\n",
       "      <td>6</td>\n",
       "    </tr>\n",
       "    <tr>\n",
       "      <th>KALIMANTAN UTARA</th>\n",
       "      <td>0</td>\n",
       "      <td>1</td>\n",
       "      <td>2</td>\n",
       "      <td>1</td>\n",
       "    </tr>\n",
       "    <tr>\n",
       "      <th>KEPULAUAN BANGKA BELITUNG</th>\n",
       "      <td>1</td>\n",
       "      <td>0</td>\n",
       "      <td>3</td>\n",
       "      <td>1</td>\n",
       "    </tr>\n",
       "    <tr>\n",
       "      <th>KEPULAUAN RIAU</th>\n",
       "      <td>1</td>\n",
       "      <td>4</td>\n",
       "      <td>8</td>\n",
       "      <td>4</td>\n",
       "    </tr>\n",
       "    <tr>\n",
       "      <th>LAMPUNG</th>\n",
       "      <td>6</td>\n",
       "      <td>10</td>\n",
       "      <td>8</td>\n",
       "      <td>5</td>\n",
       "    </tr>\n",
       "    <tr>\n",
       "      <th>MALUKU</th>\n",
       "      <td>1</td>\n",
       "      <td>4</td>\n",
       "      <td>4</td>\n",
       "      <td>2</td>\n",
       "    </tr>\n",
       "    <tr>\n",
       "      <th>MALUKU UTARA</th>\n",
       "      <td>0</td>\n",
       "      <td>7</td>\n",
       "      <td>1</td>\n",
       "      <td>2</td>\n",
       "    </tr>\n",
       "    <tr>\n",
       "      <th>NUSA TENGGARA BARAT</th>\n",
       "      <td>3</td>\n",
       "      <td>4</td>\n",
       "      <td>3</td>\n",
       "      <td>4</td>\n",
       "    </tr>\n",
       "    <tr>\n",
       "      <th>NUSA TENGGARA TIMUR</th>\n",
       "      <td>9</td>\n",
       "      <td>18</td>\n",
       "      <td>22</td>\n",
       "      <td>10</td>\n",
       "    </tr>\n",
       "    <tr>\n",
       "      <th>PAPUA</th>\n",
       "      <td>23</td>\n",
       "      <td>21</td>\n",
       "      <td>23</td>\n",
       "      <td>11</td>\n",
       "    </tr>\n",
       "    <tr>\n",
       "      <th>PAPUA BARAT</th>\n",
       "      <td>6</td>\n",
       "      <td>6</td>\n",
       "      <td>11</td>\n",
       "      <td>3</td>\n",
       "    </tr>\n",
       "    <tr>\n",
       "      <th>RIAU</th>\n",
       "      <td>3</td>\n",
       "      <td>4</td>\n",
       "      <td>4</td>\n",
       "      <td>4</td>\n",
       "    </tr>\n",
       "    <tr>\n",
       "      <th>SULAWESI BARAT</th>\n",
       "      <td>1</td>\n",
       "      <td>4</td>\n",
       "      <td>4</td>\n",
       "      <td>4</td>\n",
       "    </tr>\n",
       "    <tr>\n",
       "      <th>SULAWESI SELATAN</th>\n",
       "      <td>9</td>\n",
       "      <td>10</td>\n",
       "      <td>17</td>\n",
       "      <td>8</td>\n",
       "    </tr>\n",
       "    <tr>\n",
       "      <th>SULAWESI TENGAH</th>\n",
       "      <td>2</td>\n",
       "      <td>4</td>\n",
       "      <td>7</td>\n",
       "      <td>8</td>\n",
       "    </tr>\n",
       "    <tr>\n",
       "      <th>SULAWESI TENGGARA</th>\n",
       "      <td>12</td>\n",
       "      <td>7</td>\n",
       "      <td>13</td>\n",
       "      <td>7</td>\n",
       "    </tr>\n",
       "    <tr>\n",
       "      <th>SULAWESI UTARA</th>\n",
       "      <td>7</td>\n",
       "      <td>5</td>\n",
       "      <td>10</td>\n",
       "      <td>6</td>\n",
       "    </tr>\n",
       "    <tr>\n",
       "      <th>SUMATERA BARAT</th>\n",
       "      <td>6</td>\n",
       "      <td>11</td>\n",
       "      <td>7</td>\n",
       "      <td>8</td>\n",
       "    </tr>\n",
       "    <tr>\n",
       "      <th>SUMATERA SELATAN</th>\n",
       "      <td>8</td>\n",
       "      <td>12</td>\n",
       "      <td>18</td>\n",
       "      <td>8</td>\n",
       "    </tr>\n",
       "    <tr>\n",
       "      <th>SUMATERA UTARA</th>\n",
       "      <td>17</td>\n",
       "      <td>33</td>\n",
       "      <td>21</td>\n",
       "      <td>14</td>\n",
       "    </tr>\n",
       "  </tbody>\n",
       "</table>\n",
       "</div>"
      ],
      "text/plain": [
       "generation                  Boomers  Gen. X  Gen. Y (Millenials)  \\\n",
       "province                                                           \n",
       "ACEH                             12      15                   12   \n",
       "BALI                              0       1                    2   \n",
       "BANTEN                            3       8                    7   \n",
       "BENGKULU                          5       6                    4   \n",
       "DAERAH ISTIMEWA YOGYAKARTA        6       5                    2   \n",
       "DKI JAKARTA                       2       2                    1   \n",
       "GORONTALO                         1       7                    4   \n",
       "JAMBI                             9       6                    8   \n",
       "JAWA BARAT                       11      27                   33   \n",
       "JAWA TENGAH                      16      24                   30   \n",
       "JAWA TIMUR                       21      24                   42   \n",
       "KALIMANTAN BARAT                  5       6                    7   \n",
       "KALIMANTAN SELATAN                4       5                    6   \n",
       "KALIMANTAN TENGAH                 4       6                    9   \n",
       "KALIMANTAN TIMUR                  3       7                    6   \n",
       "KALIMANTAN UTARA                  0       1                    2   \n",
       "KEPULAUAN BANGKA BELITUNG         1       0                    3   \n",
       "KEPULAUAN RIAU                    1       4                    8   \n",
       "LAMPUNG                           6      10                    8   \n",
       "MALUKU                            1       4                    4   \n",
       "MALUKU UTARA                      0       7                    1   \n",
       "NUSA TENGGARA BARAT               3       4                    3   \n",
       "NUSA TENGGARA TIMUR               9      18                   22   \n",
       "PAPUA                            23      21                   23   \n",
       "PAPUA BARAT                       6       6                   11   \n",
       "RIAU                              3       4                    4   \n",
       "SULAWESI BARAT                    1       4                    4   \n",
       "SULAWESI SELATAN                  9      10                   17   \n",
       "SULAWESI TENGAH                   2       4                    7   \n",
       "SULAWESI TENGGARA                12       7                   13   \n",
       "SULAWESI UTARA                    7       5                   10   \n",
       "SUMATERA BARAT                    6      11                    7   \n",
       "SUMATERA SELATAN                  8      12                   18   \n",
       "SUMATERA UTARA                   17      33                   21   \n",
       "\n",
       "generation                  Gen. Z (Zoomers)  \n",
       "province                                      \n",
       "ACEH                                       7  \n",
       "BALI                                       2  \n",
       "BANTEN                                     5  \n",
       "BENGKULU                                   7  \n",
       "DAERAH ISTIMEWA YOGYAKARTA                 4  \n",
       "DKI JAKARTA                                0  \n",
       "GORONTALO                                  3  \n",
       "JAMBI                                      4  \n",
       "JAWA BARAT                                21  \n",
       "JAWA TENGAH                               15  \n",
       "JAWA TIMUR                                21  \n",
       "KALIMANTAN BARAT                           6  \n",
       "KALIMANTAN SELATAN                         2  \n",
       "KALIMANTAN TENGAH                          4  \n",
       "KALIMANTAN TIMUR                           6  \n",
       "KALIMANTAN UTARA                           1  \n",
       "KEPULAUAN BANGKA BELITUNG                  1  \n",
       "KEPULAUAN RIAU                             4  \n",
       "LAMPUNG                                    5  \n",
       "MALUKU                                     2  \n",
       "MALUKU UTARA                               2  \n",
       "NUSA TENGGARA BARAT                        4  \n",
       "NUSA TENGGARA TIMUR                       10  \n",
       "PAPUA                                     11  \n",
       "PAPUA BARAT                                3  \n",
       "RIAU                                       4  \n",
       "SULAWESI BARAT                             4  \n",
       "SULAWESI SELATAN                           8  \n",
       "SULAWESI TENGAH                            8  \n",
       "SULAWESI TENGGARA                          7  \n",
       "SULAWESI UTARA                             6  \n",
       "SUMATERA BARAT                             8  \n",
       "SUMATERA SELATAN                           8  \n",
       "SUMATERA UTARA                            14  "
      ]
     },
     "execution_count": 19,
     "metadata": {},
     "output_type": "execute_result"
    }
   ],
   "source": [
    "prov_generation = pd.crosstab(index=customer_merge['province'],\n",
    "                              columns=customer_merge['generation'],\n",
    "                              )\n",
    "\n",
    "prov_generation"
   ]
  },
  {
   "cell_type": "code",
   "execution_count": 20,
   "metadata": {},
   "outputs": [],
   "source": [
    "prov_generation['Total'] = prov_generation['Boomers']+prov_generation['Gen. X']+prov_generation['Gen. Y (Millenials)']+prov_generation['Gen. Z (Zoomers)']"
   ]
  },
  {
   "cell_type": "code",
   "execution_count": 21,
   "metadata": {},
   "outputs": [
    {
     "data": {
      "text/html": [
       "<div>\n",
       "<style scoped>\n",
       "    .dataframe tbody tr th:only-of-type {\n",
       "        vertical-align: middle;\n",
       "    }\n",
       "\n",
       "    .dataframe tbody tr th {\n",
       "        vertical-align: top;\n",
       "    }\n",
       "\n",
       "    .dataframe thead th {\n",
       "        text-align: right;\n",
       "    }\n",
       "</style>\n",
       "<table border=\"1\" class=\"dataframe\">\n",
       "  <thead>\n",
       "    <tr style=\"text-align: right;\">\n",
       "      <th></th>\n",
       "      <th>province</th>\n",
       "      <th>Boomers</th>\n",
       "      <th>Gen. X</th>\n",
       "      <th>Gen. Y (Millenials)</th>\n",
       "      <th>Gen. Z (Zoomers)</th>\n",
       "      <th>Total</th>\n",
       "      <th>latitude</th>\n",
       "      <th>longitude</th>\n",
       "    </tr>\n",
       "  </thead>\n",
       "  <tbody>\n",
       "    <tr>\n",
       "      <th>0</th>\n",
       "      <td>ACEH</td>\n",
       "      <td>12</td>\n",
       "      <td>15</td>\n",
       "      <td>12</td>\n",
       "      <td>7</td>\n",
       "      <td>46</td>\n",
       "      <td>4.36855</td>\n",
       "      <td>97.02530</td>\n",
       "    </tr>\n",
       "    <tr>\n",
       "      <th>1</th>\n",
       "      <td>BALI</td>\n",
       "      <td>0</td>\n",
       "      <td>1</td>\n",
       "      <td>2</td>\n",
       "      <td>2</td>\n",
       "      <td>5</td>\n",
       "      <td>-8.23566</td>\n",
       "      <td>115.12239</td>\n",
       "    </tr>\n",
       "    <tr>\n",
       "      <th>2</th>\n",
       "      <td>BANTEN</td>\n",
       "      <td>3</td>\n",
       "      <td>8</td>\n",
       "      <td>7</td>\n",
       "      <td>5</td>\n",
       "      <td>23</td>\n",
       "      <td>-6.44538</td>\n",
       "      <td>106.13756</td>\n",
       "    </tr>\n",
       "    <tr>\n",
       "      <th>3</th>\n",
       "      <td>BENGKULU</td>\n",
       "      <td>5</td>\n",
       "      <td>6</td>\n",
       "      <td>4</td>\n",
       "      <td>7</td>\n",
       "      <td>22</td>\n",
       "      <td>-3.51868</td>\n",
       "      <td>102.53598</td>\n",
       "    </tr>\n",
       "    <tr>\n",
       "      <th>4</th>\n",
       "      <td>DAERAH ISTIMEWA YOGYAKARTA</td>\n",
       "      <td>6</td>\n",
       "      <td>5</td>\n",
       "      <td>2</td>\n",
       "      <td>4</td>\n",
       "      <td>17</td>\n",
       "      <td>-7.79560</td>\n",
       "      <td>110.36950</td>\n",
       "    </tr>\n",
       "  </tbody>\n",
       "</table>\n",
       "</div>"
      ],
      "text/plain": [
       "                     province  Boomers  Gen. X  Gen. Y (Millenials)  \\\n",
       "0                        ACEH       12      15                   12   \n",
       "1                        BALI        0       1                    2   \n",
       "2                      BANTEN        3       8                    7   \n",
       "3                    BENGKULU        5       6                    4   \n",
       "4  DAERAH ISTIMEWA YOGYAKARTA        6       5                    2   \n",
       "\n",
       "   Gen. Z (Zoomers)  Total  latitude  longitude  \n",
       "0                 7     46   4.36855   97.02530  \n",
       "1                 2      5  -8.23566  115.12239  \n",
       "2                 5     23  -6.44538  106.13756  \n",
       "3                 7     22  -3.51868  102.53598  \n",
       "4                 4     17  -7.79560  110.36950  "
      ]
     },
     "execution_count": 21,
     "metadata": {},
     "output_type": "execute_result"
    }
   ],
   "source": [
    "df_map = prov_generation.merge(right=coord, on='province')\n",
    "\n",
    "df_map.head()"
   ]
  },
  {
   "cell_type": "code",
   "execution_count": 22,
   "metadata": {},
   "outputs": [
    {
     "data": {
      "application/vnd.plotly.v1+json": {
       "config": {
        "plotlyServerURL": "https://plot.ly"
       },
       "data": [
        {
         "customdata": [
          [
           12,
           15,
           12,
           7,
           4.36855,
           97.0253
          ],
          [
           0,
           1,
           2,
           2,
           -8.23566,
           115.12239
          ],
          [
           3,
           8,
           7,
           5,
           -6.44538,
           106.13756
          ],
          [
           5,
           6,
           4,
           7,
           -3.51868,
           102.53598
          ],
          [
           6,
           5,
           2,
           4,
           -7.7956,
           110.3695
          ],
          [
           2,
           2,
           1,
           0,
           -6.1745,
           106.8227
          ],
          [
           1,
           7,
           4,
           3,
           0.71862,
           122.45559
          ],
          [
           9,
           6,
           8,
           4,
           -1.61157,
           102.7797
          ],
          [
           11,
           27,
           33,
           21,
           -6.88917,
           107.64047
          ],
          [
           16,
           24,
           30,
           15,
           -7.30324,
           110.00441
          ],
          [
           21,
           24,
           42,
           21,
           -6.96851,
           113.98005
          ],
          [
           5,
           6,
           7,
           6,
           -0.13224,
           111.09689
          ],
          [
           4,
           5,
           6,
           2,
           -2.94348,
           115.37565
          ],
          [
           4,
           6,
           9,
           4,
           -1.49958,
           113.29033
          ],
          [
           3,
           7,
           6,
           6,
           0.78844,
           116.242
          ],
          [
           0,
           1,
           2,
           1,
           2.72594,
           116.911
          ],
          [
           1,
           0,
           3,
           1,
           -2.75775,
           107.58394
          ],
          [
           1,
           4,
           8,
           4,
           -0.15478,
           104.58037
          ],
          [
           6,
           10,
           8,
           5,
           -4.8555,
           105.0273
          ],
          [
           1,
           4,
           4,
           2,
           -3.11884,
           129.42078
          ],
          [
           0,
           7,
           1,
           2,
           0.63012,
           127.97202
          ],
          [
           3,
           4,
           3,
           4,
           -8.12179,
           117.63696
          ],
          [
           9,
           18,
           22,
           10,
           -8.56568,
           120.69786
          ],
          [
           23,
           21,
           23,
           11,
           -3.98857,
           138.34853
          ],
          [
           6,
           6,
           11,
           3,
           -1.38424,
           132.90253
          ],
          [
           3,
           4,
           4,
           4,
           0.50041,
           101.54758
          ],
          [
           1,
           4,
           4,
           4,
           -2.49745,
           119.3919
          ],
          [
           9,
           10,
           17,
           8,
           -3.64467,
           119.94719
          ],
          [
           2,
           4,
           7,
           8,
           -1.69378,
           120.80886
          ],
          [
           12,
           7,
           13,
           7,
           -3.54912,
           121.72796
          ],
          [
           7,
           5,
           10,
           6,
           0.65557,
           124.09015
          ],
          [
           6,
           11,
           7,
           8,
           -1.34225,
           100.0761
          ],
          [
           8,
           12,
           18,
           8,
           -3.12668,
           104.09306
          ],
          [
           17,
           33,
           21,
           14,
           2.19235,
           99.38122
          ]
         ],
         "hovertemplate": "<b>%{hovertext}</b><br><br>Total=%{marker.size}<br>Boomers=%{customdata[0]}<br>Gen. X=%{customdata[1]}<br>Gen. Y (Millenials)=%{customdata[2]}<br>Gen. Z (Zoomers)=%{customdata[3]}<extra></extra>",
         "hovertext": [
          "ACEH",
          "BALI",
          "BANTEN",
          "BENGKULU",
          "DAERAH ISTIMEWA YOGYAKARTA",
          "DKI JAKARTA",
          "GORONTALO",
          "JAMBI",
          "JAWA BARAT",
          "JAWA TENGAH",
          "JAWA TIMUR",
          "KALIMANTAN BARAT",
          "KALIMANTAN SELATAN",
          "KALIMANTAN TENGAH",
          "KALIMANTAN TIMUR",
          "KALIMANTAN UTARA",
          "KEPULAUAN BANGKA BELITUNG",
          "KEPULAUAN RIAU",
          "LAMPUNG",
          "MALUKU",
          "MALUKU UTARA",
          "NUSA TENGGARA BARAT",
          "NUSA TENGGARA TIMUR",
          "PAPUA",
          "PAPUA BARAT",
          "RIAU",
          "SULAWESI BARAT",
          "SULAWESI SELATAN",
          "SULAWESI TENGAH",
          "SULAWESI TENGGARA",
          "SULAWESI UTARA",
          "SUMATERA BARAT",
          "SUMATERA SELATAN",
          "SUMATERA UTARA"
         ],
         "lat": [
          4.36855,
          -8.23566,
          -6.44538,
          -3.51868,
          -7.7956,
          -6.1745,
          0.71862,
          -1.61157,
          -6.88917,
          -7.30324,
          -6.96851,
          -0.13224,
          -2.94348,
          -1.49958,
          0.78844,
          2.72594,
          -2.75775,
          -0.15478,
          -4.8555,
          -3.11884,
          0.63012,
          -8.12179,
          -8.56568,
          -3.98857,
          -1.38424,
          0.50041,
          -2.49745,
          -3.64467,
          -1.69378,
          -3.54912,
          0.65557,
          -1.34225,
          -3.12668,
          2.19235
         ],
         "legendgroup": "",
         "lon": [
          97.0253,
          115.12239,
          106.13756,
          102.53598,
          110.3695,
          106.8227,
          122.45559,
          102.7797,
          107.64047,
          110.00441,
          113.98005,
          111.09689,
          115.37565,
          113.29033,
          116.242,
          116.911,
          107.58394,
          104.58037,
          105.0273,
          129.42078,
          127.97202,
          117.63696,
          120.69786,
          138.34853,
          132.90253,
          101.54758,
          119.3919,
          119.94719,
          120.80886,
          121.72796,
          124.09015,
          100.0761,
          104.09306,
          99.38122
         ],
         "marker": {
          "color": "#636efa",
          "size": [
           46,
           5,
           23,
           22,
           17,
           5,
           15,
           27,
           92,
           85,
           108,
           24,
           17,
           23,
           22,
           4,
           5,
           17,
           29,
           11,
           10,
           14,
           59,
           78,
           26,
           15,
           13,
           44,
           21,
           39,
           28,
           32,
           46,
           85
          ],
          "sizemode": "area",
          "sizeref": 0.27
         },
         "mode": "markers",
         "name": "",
         "showlegend": false,
         "subplot": "mapbox",
         "type": "scattermapbox"
        }
       ],
       "layout": {
        "legend": {
         "itemsizing": "constant",
         "tracegroupgap": 0
        },
        "mapbox": {
         "center": {
          "lat": -2.8158444117647057,
          "lon": 113.61834794117647
         },
         "domain": {
          "x": [
           0,
           1
          ],
          "y": [
           0,
           1
          ]
         },
         "style": "carto-positron",
         "zoom": 3
        },
        "margin": {
         "t": 60
        },
        "template": {
         "data": {
          "bar": [
           {
            "error_x": {
             "color": "#2a3f5f"
            },
            "error_y": {
             "color": "#2a3f5f"
            },
            "marker": {
             "line": {
              "color": "#E5ECF6",
              "width": 0.5
             },
             "pattern": {
              "fillmode": "overlay",
              "size": 10,
              "solidity": 0.2
             }
            },
            "type": "bar"
           }
          ],
          "barpolar": [
           {
            "marker": {
             "line": {
              "color": "#E5ECF6",
              "width": 0.5
             },
             "pattern": {
              "fillmode": "overlay",
              "size": 10,
              "solidity": 0.2
             }
            },
            "type": "barpolar"
           }
          ],
          "carpet": [
           {
            "aaxis": {
             "endlinecolor": "#2a3f5f",
             "gridcolor": "white",
             "linecolor": "white",
             "minorgridcolor": "white",
             "startlinecolor": "#2a3f5f"
            },
            "baxis": {
             "endlinecolor": "#2a3f5f",
             "gridcolor": "white",
             "linecolor": "white",
             "minorgridcolor": "white",
             "startlinecolor": "#2a3f5f"
            },
            "type": "carpet"
           }
          ],
          "choropleth": [
           {
            "colorbar": {
             "outlinewidth": 0,
             "ticks": ""
            },
            "type": "choropleth"
           }
          ],
          "contour": [
           {
            "colorbar": {
             "outlinewidth": 0,
             "ticks": ""
            },
            "colorscale": [
             [
              0,
              "#0d0887"
             ],
             [
              0.1111111111111111,
              "#46039f"
             ],
             [
              0.2222222222222222,
              "#7201a8"
             ],
             [
              0.3333333333333333,
              "#9c179e"
             ],
             [
              0.4444444444444444,
              "#bd3786"
             ],
             [
              0.5555555555555556,
              "#d8576b"
             ],
             [
              0.6666666666666666,
              "#ed7953"
             ],
             [
              0.7777777777777778,
              "#fb9f3a"
             ],
             [
              0.8888888888888888,
              "#fdca26"
             ],
             [
              1,
              "#f0f921"
             ]
            ],
            "type": "contour"
           }
          ],
          "contourcarpet": [
           {
            "colorbar": {
             "outlinewidth": 0,
             "ticks": ""
            },
            "type": "contourcarpet"
           }
          ],
          "heatmap": [
           {
            "colorbar": {
             "outlinewidth": 0,
             "ticks": ""
            },
            "colorscale": [
             [
              0,
              "#0d0887"
             ],
             [
              0.1111111111111111,
              "#46039f"
             ],
             [
              0.2222222222222222,
              "#7201a8"
             ],
             [
              0.3333333333333333,
              "#9c179e"
             ],
             [
              0.4444444444444444,
              "#bd3786"
             ],
             [
              0.5555555555555556,
              "#d8576b"
             ],
             [
              0.6666666666666666,
              "#ed7953"
             ],
             [
              0.7777777777777778,
              "#fb9f3a"
             ],
             [
              0.8888888888888888,
              "#fdca26"
             ],
             [
              1,
              "#f0f921"
             ]
            ],
            "type": "heatmap"
           }
          ],
          "heatmapgl": [
           {
            "colorbar": {
             "outlinewidth": 0,
             "ticks": ""
            },
            "colorscale": [
             [
              0,
              "#0d0887"
             ],
             [
              0.1111111111111111,
              "#46039f"
             ],
             [
              0.2222222222222222,
              "#7201a8"
             ],
             [
              0.3333333333333333,
              "#9c179e"
             ],
             [
              0.4444444444444444,
              "#bd3786"
             ],
             [
              0.5555555555555556,
              "#d8576b"
             ],
             [
              0.6666666666666666,
              "#ed7953"
             ],
             [
              0.7777777777777778,
              "#fb9f3a"
             ],
             [
              0.8888888888888888,
              "#fdca26"
             ],
             [
              1,
              "#f0f921"
             ]
            ],
            "type": "heatmapgl"
           }
          ],
          "histogram": [
           {
            "marker": {
             "pattern": {
              "fillmode": "overlay",
              "size": 10,
              "solidity": 0.2
             }
            },
            "type": "histogram"
           }
          ],
          "histogram2d": [
           {
            "colorbar": {
             "outlinewidth": 0,
             "ticks": ""
            },
            "colorscale": [
             [
              0,
              "#0d0887"
             ],
             [
              0.1111111111111111,
              "#46039f"
             ],
             [
              0.2222222222222222,
              "#7201a8"
             ],
             [
              0.3333333333333333,
              "#9c179e"
             ],
             [
              0.4444444444444444,
              "#bd3786"
             ],
             [
              0.5555555555555556,
              "#d8576b"
             ],
             [
              0.6666666666666666,
              "#ed7953"
             ],
             [
              0.7777777777777778,
              "#fb9f3a"
             ],
             [
              0.8888888888888888,
              "#fdca26"
             ],
             [
              1,
              "#f0f921"
             ]
            ],
            "type": "histogram2d"
           }
          ],
          "histogram2dcontour": [
           {
            "colorbar": {
             "outlinewidth": 0,
             "ticks": ""
            },
            "colorscale": [
             [
              0,
              "#0d0887"
             ],
             [
              0.1111111111111111,
              "#46039f"
             ],
             [
              0.2222222222222222,
              "#7201a8"
             ],
             [
              0.3333333333333333,
              "#9c179e"
             ],
             [
              0.4444444444444444,
              "#bd3786"
             ],
             [
              0.5555555555555556,
              "#d8576b"
             ],
             [
              0.6666666666666666,
              "#ed7953"
             ],
             [
              0.7777777777777778,
              "#fb9f3a"
             ],
             [
              0.8888888888888888,
              "#fdca26"
             ],
             [
              1,
              "#f0f921"
             ]
            ],
            "type": "histogram2dcontour"
           }
          ],
          "mesh3d": [
           {
            "colorbar": {
             "outlinewidth": 0,
             "ticks": ""
            },
            "type": "mesh3d"
           }
          ],
          "parcoords": [
           {
            "line": {
             "colorbar": {
              "outlinewidth": 0,
              "ticks": ""
             }
            },
            "type": "parcoords"
           }
          ],
          "pie": [
           {
            "automargin": true,
            "type": "pie"
           }
          ],
          "scatter": [
           {
            "fillpattern": {
             "fillmode": "overlay",
             "size": 10,
             "solidity": 0.2
            },
            "type": "scatter"
           }
          ],
          "scatter3d": [
           {
            "line": {
             "colorbar": {
              "outlinewidth": 0,
              "ticks": ""
             }
            },
            "marker": {
             "colorbar": {
              "outlinewidth": 0,
              "ticks": ""
             }
            },
            "type": "scatter3d"
           }
          ],
          "scattercarpet": [
           {
            "marker": {
             "colorbar": {
              "outlinewidth": 0,
              "ticks": ""
             }
            },
            "type": "scattercarpet"
           }
          ],
          "scattergeo": [
           {
            "marker": {
             "colorbar": {
              "outlinewidth": 0,
              "ticks": ""
             }
            },
            "type": "scattergeo"
           }
          ],
          "scattergl": [
           {
            "marker": {
             "colorbar": {
              "outlinewidth": 0,
              "ticks": ""
             }
            },
            "type": "scattergl"
           }
          ],
          "scattermapbox": [
           {
            "marker": {
             "colorbar": {
              "outlinewidth": 0,
              "ticks": ""
             }
            },
            "type": "scattermapbox"
           }
          ],
          "scatterpolar": [
           {
            "marker": {
             "colorbar": {
              "outlinewidth": 0,
              "ticks": ""
             }
            },
            "type": "scatterpolar"
           }
          ],
          "scatterpolargl": [
           {
            "marker": {
             "colorbar": {
              "outlinewidth": 0,
              "ticks": ""
             }
            },
            "type": "scatterpolargl"
           }
          ],
          "scatterternary": [
           {
            "marker": {
             "colorbar": {
              "outlinewidth": 0,
              "ticks": ""
             }
            },
            "type": "scatterternary"
           }
          ],
          "surface": [
           {
            "colorbar": {
             "outlinewidth": 0,
             "ticks": ""
            },
            "colorscale": [
             [
              0,
              "#0d0887"
             ],
             [
              0.1111111111111111,
              "#46039f"
             ],
             [
              0.2222222222222222,
              "#7201a8"
             ],
             [
              0.3333333333333333,
              "#9c179e"
             ],
             [
              0.4444444444444444,
              "#bd3786"
             ],
             [
              0.5555555555555556,
              "#d8576b"
             ],
             [
              0.6666666666666666,
              "#ed7953"
             ],
             [
              0.7777777777777778,
              "#fb9f3a"
             ],
             [
              0.8888888888888888,
              "#fdca26"
             ],
             [
              1,
              "#f0f921"
             ]
            ],
            "type": "surface"
           }
          ],
          "table": [
           {
            "cells": {
             "fill": {
              "color": "#EBF0F8"
             },
             "line": {
              "color": "white"
             }
            },
            "header": {
             "fill": {
              "color": "#C8D4E3"
             },
             "line": {
              "color": "white"
             }
            },
            "type": "table"
           }
          ]
         },
         "layout": {
          "annotationdefaults": {
           "arrowcolor": "#2a3f5f",
           "arrowhead": 0,
           "arrowwidth": 1
          },
          "autotypenumbers": "strict",
          "coloraxis": {
           "colorbar": {
            "outlinewidth": 0,
            "ticks": ""
           }
          },
          "colorscale": {
           "diverging": [
            [
             0,
             "#8e0152"
            ],
            [
             0.1,
             "#c51b7d"
            ],
            [
             0.2,
             "#de77ae"
            ],
            [
             0.3,
             "#f1b6da"
            ],
            [
             0.4,
             "#fde0ef"
            ],
            [
             0.5,
             "#f7f7f7"
            ],
            [
             0.6,
             "#e6f5d0"
            ],
            [
             0.7,
             "#b8e186"
            ],
            [
             0.8,
             "#7fbc41"
            ],
            [
             0.9,
             "#4d9221"
            ],
            [
             1,
             "#276419"
            ]
           ],
           "sequential": [
            [
             0,
             "#0d0887"
            ],
            [
             0.1111111111111111,
             "#46039f"
            ],
            [
             0.2222222222222222,
             "#7201a8"
            ],
            [
             0.3333333333333333,
             "#9c179e"
            ],
            [
             0.4444444444444444,
             "#bd3786"
            ],
            [
             0.5555555555555556,
             "#d8576b"
            ],
            [
             0.6666666666666666,
             "#ed7953"
            ],
            [
             0.7777777777777778,
             "#fb9f3a"
            ],
            [
             0.8888888888888888,
             "#fdca26"
            ],
            [
             1,
             "#f0f921"
            ]
           ],
           "sequentialminus": [
            [
             0,
             "#0d0887"
            ],
            [
             0.1111111111111111,
             "#46039f"
            ],
            [
             0.2222222222222222,
             "#7201a8"
            ],
            [
             0.3333333333333333,
             "#9c179e"
            ],
            [
             0.4444444444444444,
             "#bd3786"
            ],
            [
             0.5555555555555556,
             "#d8576b"
            ],
            [
             0.6666666666666666,
             "#ed7953"
            ],
            [
             0.7777777777777778,
             "#fb9f3a"
            ],
            [
             0.8888888888888888,
             "#fdca26"
            ],
            [
             1,
             "#f0f921"
            ]
           ]
          },
          "colorway": [
           "#636efa",
           "#EF553B",
           "#00cc96",
           "#ab63fa",
           "#FFA15A",
           "#19d3f3",
           "#FF6692",
           "#B6E880",
           "#FF97FF",
           "#FECB52"
          ],
          "font": {
           "color": "#2a3f5f"
          },
          "geo": {
           "bgcolor": "white",
           "lakecolor": "white",
           "landcolor": "#E5ECF6",
           "showlakes": true,
           "showland": true,
           "subunitcolor": "white"
          },
          "hoverlabel": {
           "align": "left"
          },
          "hovermode": "closest",
          "mapbox": {
           "style": "light"
          },
          "paper_bgcolor": "white",
          "plot_bgcolor": "#E5ECF6",
          "polar": {
           "angularaxis": {
            "gridcolor": "white",
            "linecolor": "white",
            "ticks": ""
           },
           "bgcolor": "#E5ECF6",
           "radialaxis": {
            "gridcolor": "white",
            "linecolor": "white",
            "ticks": ""
           }
          },
          "scene": {
           "xaxis": {
            "backgroundcolor": "#E5ECF6",
            "gridcolor": "white",
            "gridwidth": 2,
            "linecolor": "white",
            "showbackground": true,
            "ticks": "",
            "zerolinecolor": "white"
           },
           "yaxis": {
            "backgroundcolor": "#E5ECF6",
            "gridcolor": "white",
            "gridwidth": 2,
            "linecolor": "white",
            "showbackground": true,
            "ticks": "",
            "zerolinecolor": "white"
           },
           "zaxis": {
            "backgroundcolor": "#E5ECF6",
            "gridcolor": "white",
            "gridwidth": 2,
            "linecolor": "white",
            "showbackground": true,
            "ticks": "",
            "zerolinecolor": "white"
           }
          },
          "shapedefaults": {
           "line": {
            "color": "#2a3f5f"
           }
          },
          "ternary": {
           "aaxis": {
            "gridcolor": "white",
            "linecolor": "white",
            "ticks": ""
           },
           "baxis": {
            "gridcolor": "white",
            "linecolor": "white",
            "ticks": ""
           },
           "bgcolor": "#E5ECF6",
           "caxis": {
            "gridcolor": "white",
            "linecolor": "white",
            "ticks": ""
           }
          },
          "title": {
           "x": 0.05
          },
          "xaxis": {
           "automargin": true,
           "gridcolor": "white",
           "linecolor": "white",
           "ticks": "",
           "title": {
            "standoff": 15
           },
           "zerolinecolor": "white",
           "zerolinewidth": 2
          },
          "yaxis": {
           "automargin": true,
           "gridcolor": "white",
           "linecolor": "white",
           "ticks": "",
           "title": {
            "standoff": 15
           },
           "zerolinecolor": "white",
           "zerolinewidth": 2
          }
         }
        }
       }
      }
     },
     "metadata": {},
     "output_type": "display_data"
    }
   ],
   "source": [
    "plot_map = px.scatter_mapbox(data_frame=df_map, lat='latitude', lon='longitude',\n",
    "                             mapbox_style='carto-positron', zoom=3,\n",
    "                             size='Total',\n",
    "                             hover_name='province',\n",
    "                             hover_data={'Boomers': True,\n",
    "                                         'Gen. X': True,\n",
    "                                         'Gen. Y (Millenials)': True,\n",
    "                                         'Gen. Z (Zoomers)': True,\n",
    "                                         'latitude': False,\n",
    "                                         'longitude': False})\n",
    "\n",
    "plot_map"
   ]
  },
  {
   "cell_type": "code",
   "execution_count": 23,
   "metadata": {},
   "outputs": [
    {
     "data": {
      "text/html": [
       "<div>\n",
       "<style scoped>\n",
       "    .dataframe tbody tr th:only-of-type {\n",
       "        vertical-align: middle;\n",
       "    }\n",
       "\n",
       "    .dataframe tbody tr th {\n",
       "        vertical-align: top;\n",
       "    }\n",
       "\n",
       "    .dataframe thead th {\n",
       "        text-align: right;\n",
       "    }\n",
       "</style>\n",
       "<table border=\"1\" class=\"dataframe\">\n",
       "  <thead>\n",
       "    <tr style=\"text-align: right;\">\n",
       "      <th></th>\n",
       "      <th>CustomerID</th>\n",
       "      <th>NIK</th>\n",
       "      <th>Annual_Income</th>\n",
       "      <th>Spending_Score</th>\n",
       "      <th>Profession</th>\n",
       "      <th>Work_Experience</th>\n",
       "      <th>Family_Size</th>\n",
       "      <th>province</th>\n",
       "      <th>city</th>\n",
       "      <th>district</th>\n",
       "      <th>gender</th>\n",
       "      <th>birth_datetime</th>\n",
       "      <th>birthday</th>\n",
       "      <th>age</th>\n",
       "      <th>regist_code</th>\n",
       "      <th>birth_year</th>\n",
       "      <th>generation</th>\n",
       "    </tr>\n",
       "  </thead>\n",
       "  <tbody>\n",
       "    <tr>\n",
       "      <th>0</th>\n",
       "      <td>1</td>\n",
       "      <td>5203172209040014</td>\n",
       "      <td>15000000</td>\n",
       "      <td>39</td>\n",
       "      <td>Healthcare</td>\n",
       "      <td>1</td>\n",
       "      <td>4</td>\n",
       "      <td>NUSA TENGGARA BARAT</td>\n",
       "      <td>KAB. LOMBOK TIMUR</td>\n",
       "      <td>Labuhan Haji</td>\n",
       "      <td>Male</td>\n",
       "      <td>2004-09-22</td>\n",
       "      <td>22 September 2004</td>\n",
       "      <td>19</td>\n",
       "      <td>14</td>\n",
       "      <td>2004</td>\n",
       "      <td>Gen. Z (Zoomers)</td>\n",
       "    </tr>\n",
       "    <tr>\n",
       "      <th>1</th>\n",
       "      <td>2</td>\n",
       "      <td>1705032211020016</td>\n",
       "      <td>35000000</td>\n",
       "      <td>81</td>\n",
       "      <td>Engineer</td>\n",
       "      <td>3</td>\n",
       "      <td>3</td>\n",
       "      <td>BENGKULU</td>\n",
       "      <td>KAB. SELUMA</td>\n",
       "      <td>Talo</td>\n",
       "      <td>Male</td>\n",
       "      <td>2002-11-22</td>\n",
       "      <td>22 November 2002</td>\n",
       "      <td>21</td>\n",
       "      <td>16</td>\n",
       "      <td>2002</td>\n",
       "      <td>Gen. Z (Zoomers)</td>\n",
       "    </tr>\n",
       "    <tr>\n",
       "      <th>2</th>\n",
       "      <td>3</td>\n",
       "      <td>7606055105030001</td>\n",
       "      <td>86000000</td>\n",
       "      <td>6</td>\n",
       "      <td>Engineer</td>\n",
       "      <td>1</td>\n",
       "      <td>1</td>\n",
       "      <td>SULAWESI BARAT</td>\n",
       "      <td>KAB. MAMUJU TENGAH</td>\n",
       "      <td>Karossa</td>\n",
       "      <td>Female</td>\n",
       "      <td>2003-05-11</td>\n",
       "      <td>11 May 2003</td>\n",
       "      <td>20</td>\n",
       "      <td>1</td>\n",
       "      <td>2003</td>\n",
       "      <td>Gen. Z (Zoomers)</td>\n",
       "    </tr>\n",
       "    <tr>\n",
       "      <th>3</th>\n",
       "      <td>4</td>\n",
       "      <td>7317074601000015</td>\n",
       "      <td>59000000</td>\n",
       "      <td>77</td>\n",
       "      <td>Lawyer</td>\n",
       "      <td>0</td>\n",
       "      <td>2</td>\n",
       "      <td>SULAWESI SELATAN</td>\n",
       "      <td>KAB. LUWU</td>\n",
       "      <td>Belopa</td>\n",
       "      <td>Female</td>\n",
       "      <td>2000-01-06</td>\n",
       "      <td>06 January 2000</td>\n",
       "      <td>23</td>\n",
       "      <td>15</td>\n",
       "      <td>2000</td>\n",
       "      <td>Gen. Z (Zoomers)</td>\n",
       "    </tr>\n",
       "    <tr>\n",
       "      <th>4</th>\n",
       "      <td>5</td>\n",
       "      <td>3215114911920008</td>\n",
       "      <td>38000000</td>\n",
       "      <td>40</td>\n",
       "      <td>Entertainment</td>\n",
       "      <td>2</td>\n",
       "      <td>6</td>\n",
       "      <td>JAWA BARAT</td>\n",
       "      <td>KAB. KARAWANG</td>\n",
       "      <td>Cibuaya</td>\n",
       "      <td>Female</td>\n",
       "      <td>1992-11-09</td>\n",
       "      <td>09 November 1992</td>\n",
       "      <td>31</td>\n",
       "      <td>8</td>\n",
       "      <td>1992</td>\n",
       "      <td>Gen. Y (Millenials)</td>\n",
       "    </tr>\n",
       "    <tr>\n",
       "      <th>...</th>\n",
       "      <td>...</td>\n",
       "      <td>...</td>\n",
       "      <td>...</td>\n",
       "      <td>...</td>\n",
       "      <td>...</td>\n",
       "      <td>...</td>\n",
       "      <td>...</td>\n",
       "      <td>...</td>\n",
       "      <td>...</td>\n",
       "      <td>...</td>\n",
       "      <td>...</td>\n",
       "      <td>...</td>\n",
       "      <td>...</td>\n",
       "      <td>...</td>\n",
       "      <td>...</td>\n",
       "      <td>...</td>\n",
       "      <td>...</td>\n",
       "    </tr>\n",
       "    <tr>\n",
       "      <th>1102</th>\n",
       "      <td>1989</td>\n",
       "      <td>1309107105690005</td>\n",
       "      <td>118944000</td>\n",
       "      <td>77</td>\n",
       "      <td>Artist</td>\n",
       "      <td>4</td>\n",
       "      <td>4</td>\n",
       "      <td>SUMATERA BARAT</td>\n",
       "      <td>KAB. KEPULAUAN MENTAWAI</td>\n",
       "      <td>Pagai Selatan</td>\n",
       "      <td>Female</td>\n",
       "      <td>1969-05-31</td>\n",
       "      <td>31 May 1969</td>\n",
       "      <td>54</td>\n",
       "      <td>5</td>\n",
       "      <td>1969</td>\n",
       "      <td>Gen. X</td>\n",
       "    </tr>\n",
       "    <tr>\n",
       "      <th>1103</th>\n",
       "      <td>1990</td>\n",
       "      <td>1808105401760019</td>\n",
       "      <td>75293000</td>\n",
       "      <td>55</td>\n",
       "      <td>Doctor</td>\n",
       "      <td>6</td>\n",
       "      <td>7</td>\n",
       "      <td>LAMPUNG</td>\n",
       "      <td>KAB. WAY KANAN</td>\n",
       "      <td>Gunung Labuhan</td>\n",
       "      <td>Female</td>\n",
       "      <td>1976-01-14</td>\n",
       "      <td>14 January 1976</td>\n",
       "      <td>47</td>\n",
       "      <td>19</td>\n",
       "      <td>1976</td>\n",
       "      <td>Gen. X</td>\n",
       "    </tr>\n",
       "    <tr>\n",
       "      <th>1104</th>\n",
       "      <td>1991</td>\n",
       "      <td>1604226904930019</td>\n",
       "      <td>166983000</td>\n",
       "      <td>69</td>\n",
       "      <td>Artist</td>\n",
       "      <td>7</td>\n",
       "      <td>3</td>\n",
       "      <td>SUMATERA SELATAN</td>\n",
       "      <td>KAB. LAHAT</td>\n",
       "      <td>Pagar Gunung</td>\n",
       "      <td>Female</td>\n",
       "      <td>1993-04-29</td>\n",
       "      <td>29 April 1993</td>\n",
       "      <td>30</td>\n",
       "      <td>19</td>\n",
       "      <td>1993</td>\n",
       "      <td>Gen. Y (Millenials)</td>\n",
       "    </tr>\n",
       "    <tr>\n",
       "      <th>1105</th>\n",
       "      <td>1994</td>\n",
       "      <td>1602144104590017</td>\n",
       "      <td>175254000</td>\n",
       "      <td>100</td>\n",
       "      <td>Artist</td>\n",
       "      <td>9</td>\n",
       "      <td>5</td>\n",
       "      <td>SUMATERA SELATAN</td>\n",
       "      <td>KAB. OGAN KOMERING ILIR</td>\n",
       "      <td>Air Sugihan</td>\n",
       "      <td>Female</td>\n",
       "      <td>1959-04-01</td>\n",
       "      <td>01 April 1959</td>\n",
       "      <td>64</td>\n",
       "      <td>17</td>\n",
       "      <td>1959</td>\n",
       "      <td>Boomers</td>\n",
       "    </tr>\n",
       "    <tr>\n",
       "      <th>1106</th>\n",
       "      <td>1995</td>\n",
       "      <td>1401105003040006</td>\n",
       "      <td>54121000</td>\n",
       "      <td>89</td>\n",
       "      <td>Engineer</td>\n",
       "      <td>6</td>\n",
       "      <td>3</td>\n",
       "      <td>RIAU</td>\n",
       "      <td>KAB. KAMPAR</td>\n",
       "      <td>Tapung</td>\n",
       "      <td>Female</td>\n",
       "      <td>2004-03-10</td>\n",
       "      <td>10 March 2004</td>\n",
       "      <td>19</td>\n",
       "      <td>6</td>\n",
       "      <td>2004</td>\n",
       "      <td>Gen. Z (Zoomers)</td>\n",
       "    </tr>\n",
       "  </tbody>\n",
       "</table>\n",
       "<p>1107 rows × 17 columns</p>\n",
       "</div>"
      ],
      "text/plain": [
       "      CustomerID               NIK  Annual_Income  Spending_Score  \\\n",
       "0              1  5203172209040014       15000000              39   \n",
       "1              2  1705032211020016       35000000              81   \n",
       "2              3  7606055105030001       86000000               6   \n",
       "3              4  7317074601000015       59000000              77   \n",
       "4              5  3215114911920008       38000000              40   \n",
       "...          ...               ...            ...             ...   \n",
       "1102        1989  1309107105690005      118944000              77   \n",
       "1103        1990  1808105401760019       75293000              55   \n",
       "1104        1991  1604226904930019      166983000              69   \n",
       "1105        1994  1602144104590017      175254000             100   \n",
       "1106        1995  1401105003040006       54121000              89   \n",
       "\n",
       "         Profession  Work_Experience  Family_Size             province  \\\n",
       "0        Healthcare                1            4  NUSA TENGGARA BARAT   \n",
       "1          Engineer                3            3             BENGKULU   \n",
       "2          Engineer                1            1       SULAWESI BARAT   \n",
       "3            Lawyer                0            2     SULAWESI SELATAN   \n",
       "4     Entertainment                2            6           JAWA BARAT   \n",
       "...             ...              ...          ...                  ...   \n",
       "1102         Artist                4            4       SUMATERA BARAT   \n",
       "1103         Doctor                6            7              LAMPUNG   \n",
       "1104         Artist                7            3     SUMATERA SELATAN   \n",
       "1105         Artist                9            5     SUMATERA SELATAN   \n",
       "1106       Engineer                6            3                 RIAU   \n",
       "\n",
       "                         city        district  gender birth_datetime  \\\n",
       "0           KAB. LOMBOK TIMUR    Labuhan Haji    Male     2004-09-22   \n",
       "1                 KAB. SELUMA            Talo    Male     2002-11-22   \n",
       "2          KAB. MAMUJU TENGAH         Karossa  Female     2003-05-11   \n",
       "3                   KAB. LUWU          Belopa  Female     2000-01-06   \n",
       "4               KAB. KARAWANG         Cibuaya  Female     1992-11-09   \n",
       "...                       ...             ...     ...            ...   \n",
       "1102  KAB. KEPULAUAN MENTAWAI   Pagai Selatan  Female     1969-05-31   \n",
       "1103           KAB. WAY KANAN  Gunung Labuhan  Female     1976-01-14   \n",
       "1104               KAB. LAHAT    Pagar Gunung  Female     1993-04-29   \n",
       "1105  KAB. OGAN KOMERING ILIR     Air Sugihan  Female     1959-04-01   \n",
       "1106              KAB. KAMPAR          Tapung  Female     2004-03-10   \n",
       "\n",
       "               birthday  age  regist_code  birth_year           generation  \n",
       "0     22 September 2004   19           14        2004     Gen. Z (Zoomers)  \n",
       "1      22 November 2002   21           16        2002     Gen. Z (Zoomers)  \n",
       "2           11 May 2003   20            1        2003     Gen. Z (Zoomers)  \n",
       "3       06 January 2000   23           15        2000     Gen. Z (Zoomers)  \n",
       "4      09 November 1992   31            8        1992  Gen. Y (Millenials)  \n",
       "...                 ...  ...          ...         ...                  ...  \n",
       "1102        31 May 1969   54            5        1969               Gen. X  \n",
       "1103    14 January 1976   47           19        1976               Gen. X  \n",
       "1104      29 April 1993   30           19        1993  Gen. Y (Millenials)  \n",
       "1105      01 April 1959   64           17        1959              Boomers  \n",
       "1106      10 March 2004   19            6        2004     Gen. Z (Zoomers)  \n",
       "\n",
       "[1107 rows x 17 columns]"
      ]
     },
     "execution_count": 23,
     "metadata": {},
     "output_type": "execute_result"
    }
   ],
   "source": [
    "customer_merge"
   ]
  },
  {
   "cell_type": "code",
   "execution_count": 24,
   "metadata": {},
   "outputs": [
    {
     "data": {
      "text/html": [
       "<div>\n",
       "<style scoped>\n",
       "    .dataframe tbody tr th:only-of-type {\n",
       "        vertical-align: middle;\n",
       "    }\n",
       "\n",
       "    .dataframe tbody tr th {\n",
       "        vertical-align: top;\n",
       "    }\n",
       "\n",
       "    .dataframe thead th {\n",
       "        text-align: right;\n",
       "    }\n",
       "</style>\n",
       "<table border=\"1\" class=\"dataframe\">\n",
       "  <thead>\n",
       "    <tr style=\"text-align: right;\">\n",
       "      <th></th>\n",
       "      <th>Boomers</th>\n",
       "      <th>Gen. X</th>\n",
       "      <th>Gen. Y (Millenials)</th>\n",
       "      <th>Gen. Z (Zoomers)</th>\n",
       "    </tr>\n",
       "    <tr>\n",
       "      <th>Profession</th>\n",
       "      <th></th>\n",
       "      <th></th>\n",
       "      <th></th>\n",
       "      <th></th>\n",
       "    </tr>\n",
       "  </thead>\n",
       "  <tbody>\n",
       "    <tr>\n",
       "      <th>Artist</th>\n",
       "      <td>77</td>\n",
       "      <td>92</td>\n",
       "      <td>118</td>\n",
       "      <td>68</td>\n",
       "    </tr>\n",
       "    <tr>\n",
       "      <th>Doctor</th>\n",
       "      <td>18</td>\n",
       "      <td>28</td>\n",
       "      <td>26</td>\n",
       "      <td>12</td>\n",
       "    </tr>\n",
       "    <tr>\n",
       "      <th>Engineer</th>\n",
       "      <td>19</td>\n",
       "      <td>32</td>\n",
       "      <td>23</td>\n",
       "      <td>19</td>\n",
       "    </tr>\n",
       "    <tr>\n",
       "      <th>Entertainment</th>\n",
       "      <td>15</td>\n",
       "      <td>36</td>\n",
       "      <td>41</td>\n",
       "      <td>22</td>\n",
       "    </tr>\n",
       "    <tr>\n",
       "      <th>Executive</th>\n",
       "      <td>9</td>\n",
       "      <td>25</td>\n",
       "      <td>33</td>\n",
       "      <td>16</td>\n",
       "    </tr>\n",
       "    <tr>\n",
       "      <th>Healthcare</th>\n",
       "      <td>47</td>\n",
       "      <td>58</td>\n",
       "      <td>59</td>\n",
       "      <td>38</td>\n",
       "    </tr>\n",
       "    <tr>\n",
       "      <th>Homemaker</th>\n",
       "      <td>5</td>\n",
       "      <td>9</td>\n",
       "      <td>13</td>\n",
       "      <td>9</td>\n",
       "    </tr>\n",
       "    <tr>\n",
       "      <th>Lawyer</th>\n",
       "      <td>13</td>\n",
       "      <td>21</td>\n",
       "      <td>28</td>\n",
       "      <td>15</td>\n",
       "    </tr>\n",
       "    <tr>\n",
       "      <th>Marketing</th>\n",
       "      <td>10</td>\n",
       "      <td>8</td>\n",
       "      <td>14</td>\n",
       "      <td>14</td>\n",
       "    </tr>\n",
       "    <tr>\n",
       "      <th>Not Employed</th>\n",
       "      <td>4</td>\n",
       "      <td>5</td>\n",
       "      <td>4</td>\n",
       "      <td>4</td>\n",
       "    </tr>\n",
       "  </tbody>\n",
       "</table>\n",
       "</div>"
      ],
      "text/plain": [
       "               Boomers  Gen. X  Gen. Y (Millenials)  Gen. Z (Zoomers)\n",
       "Profession                                                           \n",
       "Artist              77      92                  118                68\n",
       "Doctor              18      28                   26                12\n",
       "Engineer            19      32                   23                19\n",
       "Entertainment       15      36                   41                22\n",
       "Executive            9      25                   33                16\n",
       "Healthcare          47      58                   59                38\n",
       "Homemaker            5       9                   13                 9\n",
       "Lawyer              13      21                   28                15\n",
       "Marketing           10       8                   14                14\n",
       "Not Employed         4       5                    4                 4"
      ]
     },
     "execution_count": 24,
     "metadata": {},
     "output_type": "execute_result"
    }
   ],
   "source": [
    "profession_gen = pd.crosstab(index=customer_merge['Profession'],\n",
    "                             columns = customer_merge['generation'],\n",
    "                             colnames=[None])\n",
    "\n",
    "profession_gen"
   ]
  },
  {
   "cell_type": "code",
   "execution_count": 25,
   "metadata": {},
   "outputs": [
    {
     "data": {
      "text/html": [
       "<div>\n",
       "<style scoped>\n",
       "    .dataframe tbody tr th:only-of-type {\n",
       "        vertical-align: middle;\n",
       "    }\n",
       "\n",
       "    .dataframe tbody tr th {\n",
       "        vertical-align: top;\n",
       "    }\n",
       "\n",
       "    .dataframe thead th {\n",
       "        text-align: right;\n",
       "    }\n",
       "</style>\n",
       "<table border=\"1\" class=\"dataframe\">\n",
       "  <thead>\n",
       "    <tr style=\"text-align: right;\">\n",
       "      <th></th>\n",
       "      <th>generation</th>\n",
       "      <th>num_people</th>\n",
       "    </tr>\n",
       "    <tr>\n",
       "      <th>Profession</th>\n",
       "      <th></th>\n",
       "      <th></th>\n",
       "    </tr>\n",
       "  </thead>\n",
       "  <tbody>\n",
       "    <tr>\n",
       "      <th>Artist</th>\n",
       "      <td>Boomers</td>\n",
       "      <td>77</td>\n",
       "    </tr>\n",
       "    <tr>\n",
       "      <th>Doctor</th>\n",
       "      <td>Boomers</td>\n",
       "      <td>18</td>\n",
       "    </tr>\n",
       "    <tr>\n",
       "      <th>Engineer</th>\n",
       "      <td>Boomers</td>\n",
       "      <td>19</td>\n",
       "    </tr>\n",
       "    <tr>\n",
       "      <th>Entertainment</th>\n",
       "      <td>Boomers</td>\n",
       "      <td>15</td>\n",
       "    </tr>\n",
       "    <tr>\n",
       "      <th>Executive</th>\n",
       "      <td>Boomers</td>\n",
       "      <td>9</td>\n",
       "    </tr>\n",
       "    <tr>\n",
       "      <th>Healthcare</th>\n",
       "      <td>Boomers</td>\n",
       "      <td>47</td>\n",
       "    </tr>\n",
       "    <tr>\n",
       "      <th>Homemaker</th>\n",
       "      <td>Boomers</td>\n",
       "      <td>5</td>\n",
       "    </tr>\n",
       "    <tr>\n",
       "      <th>Lawyer</th>\n",
       "      <td>Boomers</td>\n",
       "      <td>13</td>\n",
       "    </tr>\n",
       "    <tr>\n",
       "      <th>Marketing</th>\n",
       "      <td>Boomers</td>\n",
       "      <td>10</td>\n",
       "    </tr>\n",
       "    <tr>\n",
       "      <th>Not Employed</th>\n",
       "      <td>Boomers</td>\n",
       "      <td>4</td>\n",
       "    </tr>\n",
       "    <tr>\n",
       "      <th>Artist</th>\n",
       "      <td>Gen. X</td>\n",
       "      <td>92</td>\n",
       "    </tr>\n",
       "    <tr>\n",
       "      <th>Doctor</th>\n",
       "      <td>Gen. X</td>\n",
       "      <td>28</td>\n",
       "    </tr>\n",
       "    <tr>\n",
       "      <th>Engineer</th>\n",
       "      <td>Gen. X</td>\n",
       "      <td>32</td>\n",
       "    </tr>\n",
       "    <tr>\n",
       "      <th>Entertainment</th>\n",
       "      <td>Gen. X</td>\n",
       "      <td>36</td>\n",
       "    </tr>\n",
       "    <tr>\n",
       "      <th>Executive</th>\n",
       "      <td>Gen. X</td>\n",
       "      <td>25</td>\n",
       "    </tr>\n",
       "    <tr>\n",
       "      <th>Healthcare</th>\n",
       "      <td>Gen. X</td>\n",
       "      <td>58</td>\n",
       "    </tr>\n",
       "    <tr>\n",
       "      <th>Homemaker</th>\n",
       "      <td>Gen. X</td>\n",
       "      <td>9</td>\n",
       "    </tr>\n",
       "    <tr>\n",
       "      <th>Lawyer</th>\n",
       "      <td>Gen. X</td>\n",
       "      <td>21</td>\n",
       "    </tr>\n",
       "    <tr>\n",
       "      <th>Marketing</th>\n",
       "      <td>Gen. X</td>\n",
       "      <td>8</td>\n",
       "    </tr>\n",
       "    <tr>\n",
       "      <th>Not Employed</th>\n",
       "      <td>Gen. X</td>\n",
       "      <td>5</td>\n",
       "    </tr>\n",
       "    <tr>\n",
       "      <th>Artist</th>\n",
       "      <td>Gen. Y (Millenials)</td>\n",
       "      <td>118</td>\n",
       "    </tr>\n",
       "    <tr>\n",
       "      <th>Doctor</th>\n",
       "      <td>Gen. Y (Millenials)</td>\n",
       "      <td>26</td>\n",
       "    </tr>\n",
       "    <tr>\n",
       "      <th>Engineer</th>\n",
       "      <td>Gen. Y (Millenials)</td>\n",
       "      <td>23</td>\n",
       "    </tr>\n",
       "    <tr>\n",
       "      <th>Entertainment</th>\n",
       "      <td>Gen. Y (Millenials)</td>\n",
       "      <td>41</td>\n",
       "    </tr>\n",
       "    <tr>\n",
       "      <th>Executive</th>\n",
       "      <td>Gen. Y (Millenials)</td>\n",
       "      <td>33</td>\n",
       "    </tr>\n",
       "    <tr>\n",
       "      <th>Healthcare</th>\n",
       "      <td>Gen. Y (Millenials)</td>\n",
       "      <td>59</td>\n",
       "    </tr>\n",
       "    <tr>\n",
       "      <th>Homemaker</th>\n",
       "      <td>Gen. Y (Millenials)</td>\n",
       "      <td>13</td>\n",
       "    </tr>\n",
       "    <tr>\n",
       "      <th>Lawyer</th>\n",
       "      <td>Gen. Y (Millenials)</td>\n",
       "      <td>28</td>\n",
       "    </tr>\n",
       "    <tr>\n",
       "      <th>Marketing</th>\n",
       "      <td>Gen. Y (Millenials)</td>\n",
       "      <td>14</td>\n",
       "    </tr>\n",
       "    <tr>\n",
       "      <th>Not Employed</th>\n",
       "      <td>Gen. Y (Millenials)</td>\n",
       "      <td>4</td>\n",
       "    </tr>\n",
       "    <tr>\n",
       "      <th>Artist</th>\n",
       "      <td>Gen. Z (Zoomers)</td>\n",
       "      <td>68</td>\n",
       "    </tr>\n",
       "    <tr>\n",
       "      <th>Doctor</th>\n",
       "      <td>Gen. Z (Zoomers)</td>\n",
       "      <td>12</td>\n",
       "    </tr>\n",
       "    <tr>\n",
       "      <th>Engineer</th>\n",
       "      <td>Gen. Z (Zoomers)</td>\n",
       "      <td>19</td>\n",
       "    </tr>\n",
       "    <tr>\n",
       "      <th>Entertainment</th>\n",
       "      <td>Gen. Z (Zoomers)</td>\n",
       "      <td>22</td>\n",
       "    </tr>\n",
       "    <tr>\n",
       "      <th>Executive</th>\n",
       "      <td>Gen. Z (Zoomers)</td>\n",
       "      <td>16</td>\n",
       "    </tr>\n",
       "    <tr>\n",
       "      <th>Healthcare</th>\n",
       "      <td>Gen. Z (Zoomers)</td>\n",
       "      <td>38</td>\n",
       "    </tr>\n",
       "    <tr>\n",
       "      <th>Homemaker</th>\n",
       "      <td>Gen. Z (Zoomers)</td>\n",
       "      <td>9</td>\n",
       "    </tr>\n",
       "    <tr>\n",
       "      <th>Lawyer</th>\n",
       "      <td>Gen. Z (Zoomers)</td>\n",
       "      <td>15</td>\n",
       "    </tr>\n",
       "    <tr>\n",
       "      <th>Marketing</th>\n",
       "      <td>Gen. Z (Zoomers)</td>\n",
       "      <td>14</td>\n",
       "    </tr>\n",
       "    <tr>\n",
       "      <th>Not Employed</th>\n",
       "      <td>Gen. Z (Zoomers)</td>\n",
       "      <td>4</td>\n",
       "    </tr>\n",
       "  </tbody>\n",
       "</table>\n",
       "</div>"
      ],
      "text/plain": [
       "                        generation  num_people\n",
       "Profession                                    \n",
       "Artist                     Boomers          77\n",
       "Doctor                     Boomers          18\n",
       "Engineer                   Boomers          19\n",
       "Entertainment              Boomers          15\n",
       "Executive                  Boomers           9\n",
       "Healthcare                 Boomers          47\n",
       "Homemaker                  Boomers           5\n",
       "Lawyer                     Boomers          13\n",
       "Marketing                  Boomers          10\n",
       "Not Employed               Boomers           4\n",
       "Artist                      Gen. X          92\n",
       "Doctor                      Gen. X          28\n",
       "Engineer                    Gen. X          32\n",
       "Entertainment               Gen. X          36\n",
       "Executive                   Gen. X          25\n",
       "Healthcare                  Gen. X          58\n",
       "Homemaker                   Gen. X           9\n",
       "Lawyer                      Gen. X          21\n",
       "Marketing                   Gen. X           8\n",
       "Not Employed                Gen. X           5\n",
       "Artist         Gen. Y (Millenials)         118\n",
       "Doctor         Gen. Y (Millenials)          26\n",
       "Engineer       Gen. Y (Millenials)          23\n",
       "Entertainment  Gen. Y (Millenials)          41\n",
       "Executive      Gen. Y (Millenials)          33\n",
       "Healthcare     Gen. Y (Millenials)          59\n",
       "Homemaker      Gen. Y (Millenials)          13\n",
       "Lawyer         Gen. Y (Millenials)          28\n",
       "Marketing      Gen. Y (Millenials)          14\n",
       "Not Employed   Gen. Y (Millenials)           4\n",
       "Artist            Gen. Z (Zoomers)          68\n",
       "Doctor            Gen. Z (Zoomers)          12\n",
       "Engineer          Gen. Z (Zoomers)          19\n",
       "Entertainment     Gen. Z (Zoomers)          22\n",
       "Executive         Gen. Z (Zoomers)          16\n",
       "Healthcare        Gen. Z (Zoomers)          38\n",
       "Homemaker         Gen. Z (Zoomers)           9\n",
       "Lawyer            Gen. Z (Zoomers)          15\n",
       "Marketing         Gen. Z (Zoomers)          14\n",
       "Not Employed      Gen. Z (Zoomers)           4"
      ]
     },
     "execution_count": 25,
     "metadata": {},
     "output_type": "execute_result"
    }
   ],
   "source": [
    "melt_gen_profession = profession_gen.melt(ignore_index=False, var_name='generation', value_name='num_people')\n",
    "\n",
    "melt_gen_profession"
   ]
  },
  {
   "cell_type": "code",
   "execution_count": 26,
   "metadata": {},
   "outputs": [
    {
     "data": {
      "text/html": [
       "<div>\n",
       "<style scoped>\n",
       "    .dataframe tbody tr th:only-of-type {\n",
       "        vertical-align: middle;\n",
       "    }\n",
       "\n",
       "    .dataframe tbody tr th {\n",
       "        vertical-align: top;\n",
       "    }\n",
       "\n",
       "    .dataframe thead th {\n",
       "        text-align: right;\n",
       "    }\n",
       "</style>\n",
       "<table border=\"1\" class=\"dataframe\">\n",
       "  <thead>\n",
       "    <tr style=\"text-align: right;\">\n",
       "      <th></th>\n",
       "      <th>Profession</th>\n",
       "      <th>generation</th>\n",
       "      <th>num_people</th>\n",
       "    </tr>\n",
       "  </thead>\n",
       "  <tbody>\n",
       "    <tr>\n",
       "      <th>0</th>\n",
       "      <td>Artist</td>\n",
       "      <td>Boomers</td>\n",
       "      <td>77</td>\n",
       "    </tr>\n",
       "    <tr>\n",
       "      <th>1</th>\n",
       "      <td>Doctor</td>\n",
       "      <td>Boomers</td>\n",
       "      <td>18</td>\n",
       "    </tr>\n",
       "    <tr>\n",
       "      <th>2</th>\n",
       "      <td>Engineer</td>\n",
       "      <td>Boomers</td>\n",
       "      <td>19</td>\n",
       "    </tr>\n",
       "    <tr>\n",
       "      <th>3</th>\n",
       "      <td>Entertainment</td>\n",
       "      <td>Boomers</td>\n",
       "      <td>15</td>\n",
       "    </tr>\n",
       "    <tr>\n",
       "      <th>4</th>\n",
       "      <td>Executive</td>\n",
       "      <td>Boomers</td>\n",
       "      <td>9</td>\n",
       "    </tr>\n",
       "  </tbody>\n",
       "</table>\n",
       "</div>"
      ],
      "text/plain": [
       "      Profession generation  num_people\n",
       "0         Artist    Boomers          77\n",
       "1         Doctor    Boomers          18\n",
       "2       Engineer    Boomers          19\n",
       "3  Entertainment    Boomers          15\n",
       "4      Executive    Boomers           9"
      ]
     },
     "execution_count": 26,
     "metadata": {},
     "output_type": "execute_result"
    }
   ],
   "source": [
    "melt_gen_profession = melt_gen_profession.reset_index().dropna()\n",
    "melt_gen_profession.head()"
   ]
  },
  {
   "cell_type": "code",
   "execution_count": 27,
   "metadata": {},
   "outputs": [
    {
     "name": "stdout",
     "output_type": "stream",
     "text": [
      "<class 'pandas.core.frame.DataFrame'>\n",
      "RangeIndex: 40 entries, 0 to 39\n",
      "Data columns (total 3 columns):\n",
      " #   Column      Non-Null Count  Dtype   \n",
      "---  ------      --------------  -----   \n",
      " 0   Profession  40 non-null     category\n",
      " 1   generation  40 non-null     category\n",
      " 2   num_people  40 non-null     int64   \n",
      "dtypes: category(2), int64(1)\n",
      "memory usage: 1.1 KB\n"
     ]
    }
   ],
   "source": [
    "melt_gen_profession.info()"
   ]
  },
  {
   "cell_type": "code",
   "execution_count": 29,
   "metadata": {},
   "outputs": [
    {
     "name": "stderr",
     "output_type": "stream",
     "text": [
      "c:\\Users\\Lenovo\\anaconda3\\envs\\dss_nik\\lib\\site-packages\\plotly\\express\\_core.py:2044: FutureWarning:\n",
      "\n",
      "The default of observed=False is deprecated and will be changed to True in a future version of pandas. Pass observed=False to retain current behavior or observed=True to adopt the future default and silence this warning.\n",
      "\n"
     ]
    },
    {
     "data": {
      "application/vnd.plotly.v1+json": {
       "config": {
        "plotlyServerURL": "https://plot.ly"
       },
       "data": [
        {
         "alignmentgroup": "True",
         "hovertemplate": "Generation=Boomers<br>Profession Count=%{x}<br>Profession=%{y}<extra></extra>",
         "legendgroup": "Boomers",
         "marker": {
          "color": "#636efa",
          "pattern": {
           "shape": ""
          }
         },
         "name": "Boomers",
         "offsetgroup": "Boomers",
         "orientation": "h",
         "showlegend": true,
         "textposition": "auto",
         "type": "bar",
         "x": [
          4,
          5,
          9,
          10,
          13,
          15,
          18,
          19,
          47,
          77
         ],
         "xaxis": "x",
         "y": [
          "Not Employed",
          "Homemaker",
          "Executive",
          "Marketing",
          "Lawyer",
          "Entertainment",
          "Doctor",
          "Engineer",
          "Healthcare",
          "Artist"
         ],
         "yaxis": "y"
        },
        {
         "alignmentgroup": "True",
         "hovertemplate": "Generation=Gen. X<br>Profession Count=%{x}<br>Profession=%{y}<extra></extra>",
         "legendgroup": "Gen. X",
         "marker": {
          "color": "#EF553B",
          "pattern": {
           "shape": ""
          }
         },
         "name": "Gen. X",
         "offsetgroup": "Gen. X",
         "orientation": "h",
         "showlegend": true,
         "textposition": "auto",
         "type": "bar",
         "x": [
          5,
          8,
          9,
          21,
          25,
          28,
          32,
          36,
          58,
          92
         ],
         "xaxis": "x",
         "y": [
          "Not Employed",
          "Marketing",
          "Homemaker",
          "Lawyer",
          "Executive",
          "Doctor",
          "Engineer",
          "Entertainment",
          "Healthcare",
          "Artist"
         ],
         "yaxis": "y"
        },
        {
         "alignmentgroup": "True",
         "hovertemplate": "Generation=Gen. Y (Millenials)<br>Profession Count=%{x}<br>Profession=%{y}<extra></extra>",
         "legendgroup": "Gen. Y (Millenials)",
         "marker": {
          "color": "#00cc96",
          "pattern": {
           "shape": ""
          }
         },
         "name": "Gen. Y (Millenials)",
         "offsetgroup": "Gen. Y (Millenials)",
         "orientation": "h",
         "showlegend": true,
         "textposition": "auto",
         "type": "bar",
         "x": [
          4,
          13,
          14,
          23,
          26,
          28,
          33,
          41,
          59,
          118
         ],
         "xaxis": "x",
         "y": [
          "Not Employed",
          "Homemaker",
          "Marketing",
          "Engineer",
          "Doctor",
          "Lawyer",
          "Executive",
          "Entertainment",
          "Healthcare",
          "Artist"
         ],
         "yaxis": "y"
        },
        {
         "alignmentgroup": "True",
         "hovertemplate": "Generation=Gen. Z (Zoomers)<br>Profession Count=%{x}<br>Profession=%{y}<extra></extra>",
         "legendgroup": "Gen. Z (Zoomers)",
         "marker": {
          "color": "#ab63fa",
          "pattern": {
           "shape": ""
          }
         },
         "name": "Gen. Z (Zoomers)",
         "offsetgroup": "Gen. Z (Zoomers)",
         "orientation": "h",
         "showlegend": true,
         "textposition": "auto",
         "type": "bar",
         "x": [
          4,
          9,
          12,
          14,
          15,
          16,
          19,
          22,
          38,
          68
         ],
         "xaxis": "x",
         "y": [
          "Not Employed",
          "Homemaker",
          "Doctor",
          "Marketing",
          "Lawyer",
          "Executive",
          "Engineer",
          "Entertainment",
          "Healthcare",
          "Artist"
         ],
         "yaxis": "y"
        }
       ],
       "layout": {
        "barmode": "group",
        "legend": {
         "title": {
          "text": "Generation"
         },
         "tracegroupgap": 0
        },
        "margin": {
         "t": 60
        },
        "template": {
         "data": {
          "bar": [
           {
            "error_x": {
             "color": "#2a3f5f"
            },
            "error_y": {
             "color": "#2a3f5f"
            },
            "marker": {
             "line": {
              "color": "#E5ECF6",
              "width": 0.5
             },
             "pattern": {
              "fillmode": "overlay",
              "size": 10,
              "solidity": 0.2
             }
            },
            "type": "bar"
           }
          ],
          "barpolar": [
           {
            "marker": {
             "line": {
              "color": "#E5ECF6",
              "width": 0.5
             },
             "pattern": {
              "fillmode": "overlay",
              "size": 10,
              "solidity": 0.2
             }
            },
            "type": "barpolar"
           }
          ],
          "carpet": [
           {
            "aaxis": {
             "endlinecolor": "#2a3f5f",
             "gridcolor": "white",
             "linecolor": "white",
             "minorgridcolor": "white",
             "startlinecolor": "#2a3f5f"
            },
            "baxis": {
             "endlinecolor": "#2a3f5f",
             "gridcolor": "white",
             "linecolor": "white",
             "minorgridcolor": "white",
             "startlinecolor": "#2a3f5f"
            },
            "type": "carpet"
           }
          ],
          "choropleth": [
           {
            "colorbar": {
             "outlinewidth": 0,
             "ticks": ""
            },
            "type": "choropleth"
           }
          ],
          "contour": [
           {
            "colorbar": {
             "outlinewidth": 0,
             "ticks": ""
            },
            "colorscale": [
             [
              0,
              "#0d0887"
             ],
             [
              0.1111111111111111,
              "#46039f"
             ],
             [
              0.2222222222222222,
              "#7201a8"
             ],
             [
              0.3333333333333333,
              "#9c179e"
             ],
             [
              0.4444444444444444,
              "#bd3786"
             ],
             [
              0.5555555555555556,
              "#d8576b"
             ],
             [
              0.6666666666666666,
              "#ed7953"
             ],
             [
              0.7777777777777778,
              "#fb9f3a"
             ],
             [
              0.8888888888888888,
              "#fdca26"
             ],
             [
              1,
              "#f0f921"
             ]
            ],
            "type": "contour"
           }
          ],
          "contourcarpet": [
           {
            "colorbar": {
             "outlinewidth": 0,
             "ticks": ""
            },
            "type": "contourcarpet"
           }
          ],
          "heatmap": [
           {
            "colorbar": {
             "outlinewidth": 0,
             "ticks": ""
            },
            "colorscale": [
             [
              0,
              "#0d0887"
             ],
             [
              0.1111111111111111,
              "#46039f"
             ],
             [
              0.2222222222222222,
              "#7201a8"
             ],
             [
              0.3333333333333333,
              "#9c179e"
             ],
             [
              0.4444444444444444,
              "#bd3786"
             ],
             [
              0.5555555555555556,
              "#d8576b"
             ],
             [
              0.6666666666666666,
              "#ed7953"
             ],
             [
              0.7777777777777778,
              "#fb9f3a"
             ],
             [
              0.8888888888888888,
              "#fdca26"
             ],
             [
              1,
              "#f0f921"
             ]
            ],
            "type": "heatmap"
           }
          ],
          "heatmapgl": [
           {
            "colorbar": {
             "outlinewidth": 0,
             "ticks": ""
            },
            "colorscale": [
             [
              0,
              "#0d0887"
             ],
             [
              0.1111111111111111,
              "#46039f"
             ],
             [
              0.2222222222222222,
              "#7201a8"
             ],
             [
              0.3333333333333333,
              "#9c179e"
             ],
             [
              0.4444444444444444,
              "#bd3786"
             ],
             [
              0.5555555555555556,
              "#d8576b"
             ],
             [
              0.6666666666666666,
              "#ed7953"
             ],
             [
              0.7777777777777778,
              "#fb9f3a"
             ],
             [
              0.8888888888888888,
              "#fdca26"
             ],
             [
              1,
              "#f0f921"
             ]
            ],
            "type": "heatmapgl"
           }
          ],
          "histogram": [
           {
            "marker": {
             "pattern": {
              "fillmode": "overlay",
              "size": 10,
              "solidity": 0.2
             }
            },
            "type": "histogram"
           }
          ],
          "histogram2d": [
           {
            "colorbar": {
             "outlinewidth": 0,
             "ticks": ""
            },
            "colorscale": [
             [
              0,
              "#0d0887"
             ],
             [
              0.1111111111111111,
              "#46039f"
             ],
             [
              0.2222222222222222,
              "#7201a8"
             ],
             [
              0.3333333333333333,
              "#9c179e"
             ],
             [
              0.4444444444444444,
              "#bd3786"
             ],
             [
              0.5555555555555556,
              "#d8576b"
             ],
             [
              0.6666666666666666,
              "#ed7953"
             ],
             [
              0.7777777777777778,
              "#fb9f3a"
             ],
             [
              0.8888888888888888,
              "#fdca26"
             ],
             [
              1,
              "#f0f921"
             ]
            ],
            "type": "histogram2d"
           }
          ],
          "histogram2dcontour": [
           {
            "colorbar": {
             "outlinewidth": 0,
             "ticks": ""
            },
            "colorscale": [
             [
              0,
              "#0d0887"
             ],
             [
              0.1111111111111111,
              "#46039f"
             ],
             [
              0.2222222222222222,
              "#7201a8"
             ],
             [
              0.3333333333333333,
              "#9c179e"
             ],
             [
              0.4444444444444444,
              "#bd3786"
             ],
             [
              0.5555555555555556,
              "#d8576b"
             ],
             [
              0.6666666666666666,
              "#ed7953"
             ],
             [
              0.7777777777777778,
              "#fb9f3a"
             ],
             [
              0.8888888888888888,
              "#fdca26"
             ],
             [
              1,
              "#f0f921"
             ]
            ],
            "type": "histogram2dcontour"
           }
          ],
          "mesh3d": [
           {
            "colorbar": {
             "outlinewidth": 0,
             "ticks": ""
            },
            "type": "mesh3d"
           }
          ],
          "parcoords": [
           {
            "line": {
             "colorbar": {
              "outlinewidth": 0,
              "ticks": ""
             }
            },
            "type": "parcoords"
           }
          ],
          "pie": [
           {
            "automargin": true,
            "type": "pie"
           }
          ],
          "scatter": [
           {
            "fillpattern": {
             "fillmode": "overlay",
             "size": 10,
             "solidity": 0.2
            },
            "type": "scatter"
           }
          ],
          "scatter3d": [
           {
            "line": {
             "colorbar": {
              "outlinewidth": 0,
              "ticks": ""
             }
            },
            "marker": {
             "colorbar": {
              "outlinewidth": 0,
              "ticks": ""
             }
            },
            "type": "scatter3d"
           }
          ],
          "scattercarpet": [
           {
            "marker": {
             "colorbar": {
              "outlinewidth": 0,
              "ticks": ""
             }
            },
            "type": "scattercarpet"
           }
          ],
          "scattergeo": [
           {
            "marker": {
             "colorbar": {
              "outlinewidth": 0,
              "ticks": ""
             }
            },
            "type": "scattergeo"
           }
          ],
          "scattergl": [
           {
            "marker": {
             "colorbar": {
              "outlinewidth": 0,
              "ticks": ""
             }
            },
            "type": "scattergl"
           }
          ],
          "scattermapbox": [
           {
            "marker": {
             "colorbar": {
              "outlinewidth": 0,
              "ticks": ""
             }
            },
            "type": "scattermapbox"
           }
          ],
          "scatterpolar": [
           {
            "marker": {
             "colorbar": {
              "outlinewidth": 0,
              "ticks": ""
             }
            },
            "type": "scatterpolar"
           }
          ],
          "scatterpolargl": [
           {
            "marker": {
             "colorbar": {
              "outlinewidth": 0,
              "ticks": ""
             }
            },
            "type": "scatterpolargl"
           }
          ],
          "scatterternary": [
           {
            "marker": {
             "colorbar": {
              "outlinewidth": 0,
              "ticks": ""
             }
            },
            "type": "scatterternary"
           }
          ],
          "surface": [
           {
            "colorbar": {
             "outlinewidth": 0,
             "ticks": ""
            },
            "colorscale": [
             [
              0,
              "#0d0887"
             ],
             [
              0.1111111111111111,
              "#46039f"
             ],
             [
              0.2222222222222222,
              "#7201a8"
             ],
             [
              0.3333333333333333,
              "#9c179e"
             ],
             [
              0.4444444444444444,
              "#bd3786"
             ],
             [
              0.5555555555555556,
              "#d8576b"
             ],
             [
              0.6666666666666666,
              "#ed7953"
             ],
             [
              0.7777777777777778,
              "#fb9f3a"
             ],
             [
              0.8888888888888888,
              "#fdca26"
             ],
             [
              1,
              "#f0f921"
             ]
            ],
            "type": "surface"
           }
          ],
          "table": [
           {
            "cells": {
             "fill": {
              "color": "#EBF0F8"
             },
             "line": {
              "color": "white"
             }
            },
            "header": {
             "fill": {
              "color": "#C8D4E3"
             },
             "line": {
              "color": "white"
             }
            },
            "type": "table"
           }
          ]
         },
         "layout": {
          "annotationdefaults": {
           "arrowcolor": "#2a3f5f",
           "arrowhead": 0,
           "arrowwidth": 1
          },
          "autotypenumbers": "strict",
          "coloraxis": {
           "colorbar": {
            "outlinewidth": 0,
            "ticks": ""
           }
          },
          "colorscale": {
           "diverging": [
            [
             0,
             "#8e0152"
            ],
            [
             0.1,
             "#c51b7d"
            ],
            [
             0.2,
             "#de77ae"
            ],
            [
             0.3,
             "#f1b6da"
            ],
            [
             0.4,
             "#fde0ef"
            ],
            [
             0.5,
             "#f7f7f7"
            ],
            [
             0.6,
             "#e6f5d0"
            ],
            [
             0.7,
             "#b8e186"
            ],
            [
             0.8,
             "#7fbc41"
            ],
            [
             0.9,
             "#4d9221"
            ],
            [
             1,
             "#276419"
            ]
           ],
           "sequential": [
            [
             0,
             "#0d0887"
            ],
            [
             0.1111111111111111,
             "#46039f"
            ],
            [
             0.2222222222222222,
             "#7201a8"
            ],
            [
             0.3333333333333333,
             "#9c179e"
            ],
            [
             0.4444444444444444,
             "#bd3786"
            ],
            [
             0.5555555555555556,
             "#d8576b"
            ],
            [
             0.6666666666666666,
             "#ed7953"
            ],
            [
             0.7777777777777778,
             "#fb9f3a"
            ],
            [
             0.8888888888888888,
             "#fdca26"
            ],
            [
             1,
             "#f0f921"
            ]
           ],
           "sequentialminus": [
            [
             0,
             "#0d0887"
            ],
            [
             0.1111111111111111,
             "#46039f"
            ],
            [
             0.2222222222222222,
             "#7201a8"
            ],
            [
             0.3333333333333333,
             "#9c179e"
            ],
            [
             0.4444444444444444,
             "#bd3786"
            ],
            [
             0.5555555555555556,
             "#d8576b"
            ],
            [
             0.6666666666666666,
             "#ed7953"
            ],
            [
             0.7777777777777778,
             "#fb9f3a"
            ],
            [
             0.8888888888888888,
             "#fdca26"
            ],
            [
             1,
             "#f0f921"
            ]
           ]
          },
          "colorway": [
           "#636efa",
           "#EF553B",
           "#00cc96",
           "#ab63fa",
           "#FFA15A",
           "#19d3f3",
           "#FF6692",
           "#B6E880",
           "#FF97FF",
           "#FECB52"
          ],
          "font": {
           "color": "#2a3f5f"
          },
          "geo": {
           "bgcolor": "white",
           "lakecolor": "white",
           "landcolor": "#E5ECF6",
           "showlakes": true,
           "showland": true,
           "subunitcolor": "white"
          },
          "hoverlabel": {
           "align": "left"
          },
          "hovermode": "closest",
          "mapbox": {
           "style": "light"
          },
          "paper_bgcolor": "white",
          "plot_bgcolor": "#E5ECF6",
          "polar": {
           "angularaxis": {
            "gridcolor": "white",
            "linecolor": "white",
            "ticks": ""
           },
           "bgcolor": "#E5ECF6",
           "radialaxis": {
            "gridcolor": "white",
            "linecolor": "white",
            "ticks": ""
           }
          },
          "scene": {
           "xaxis": {
            "backgroundcolor": "#E5ECF6",
            "gridcolor": "white",
            "gridwidth": 2,
            "linecolor": "white",
            "showbackground": true,
            "ticks": "",
            "zerolinecolor": "white"
           },
           "yaxis": {
            "backgroundcolor": "#E5ECF6",
            "gridcolor": "white",
            "gridwidth": 2,
            "linecolor": "white",
            "showbackground": true,
            "ticks": "",
            "zerolinecolor": "white"
           },
           "zaxis": {
            "backgroundcolor": "#E5ECF6",
            "gridcolor": "white",
            "gridwidth": 2,
            "linecolor": "white",
            "showbackground": true,
            "ticks": "",
            "zerolinecolor": "white"
           }
          },
          "shapedefaults": {
           "line": {
            "color": "#2a3f5f"
           }
          },
          "ternary": {
           "aaxis": {
            "gridcolor": "white",
            "linecolor": "white",
            "ticks": ""
           },
           "baxis": {
            "gridcolor": "white",
            "linecolor": "white",
            "ticks": ""
           },
           "bgcolor": "#E5ECF6",
           "caxis": {
            "gridcolor": "white",
            "linecolor": "white",
            "ticks": ""
           }
          },
          "title": {
           "x": 0.05
          },
          "xaxis": {
           "automargin": true,
           "gridcolor": "white",
           "linecolor": "white",
           "ticks": "",
           "title": {
            "standoff": 15
           },
           "zerolinecolor": "white",
           "zerolinewidth": 2
          },
          "yaxis": {
           "automargin": true,
           "gridcolor": "white",
           "linecolor": "white",
           "ticks": "",
           "title": {
            "standoff": 15
           },
           "zerolinecolor": "white",
           "zerolinewidth": 2
          }
         }
        },
        "xaxis": {
         "anchor": "y",
         "domain": [
          0,
          1
         ],
         "title": {
          "text": "Profession Count"
         }
        },
        "yaxis": {
         "anchor": "x",
         "domain": [
          0,
          1
         ],
         "title": {
          "text": "Profession"
         }
        }
       }
      }
     },
     "metadata": {},
     "output_type": "display_data"
    }
   ],
   "source": [
    "plot_profession = px.bar(data_frame=melt_gen_profession.sort_values(by='num_people'), \n",
    "                   x='num_people', y='Profession', color='generation', barmode='group',\n",
    "                   labels={'num_people': 'Profession Count',\n",
    "                            'Profession': 'Profession',\n",
    "                            'generation': 'Generation'},\n",
    "                            category_orders={'generation': ['Boomers', 'Gen. X', 'Gen. Y (Millenials)', 'Gen. Z (Zoomers)']})\n",
    "plot_profession"
   ]
  },
  {
   "cell_type": "code",
   "execution_count": null,
   "metadata": {},
   "outputs": [],
   "source": []
  }
 ],
 "metadata": {
  "kernelspec": {
   "display_name": "dss_nik",
   "language": "python",
   "name": "python3"
  },
  "language_info": {
   "codemirror_mode": {
    "name": "ipython",
    "version": 3
   },
   "file_extension": ".py",
   "mimetype": "text/x-python",
   "name": "python",
   "nbconvert_exporter": "python",
   "pygments_lexer": "ipython3",
   "version": "3.10.13"
  }
 },
 "nbformat": 4,
 "nbformat_minor": 2
}
